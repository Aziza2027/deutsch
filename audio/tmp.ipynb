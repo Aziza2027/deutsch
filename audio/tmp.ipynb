{
 "cells": [
  {
   "cell_type": "code",
   "execution_count": 32,
   "metadata": {},
   "outputs": [
    {
     "name": "stderr",
     "output_type": "stream",
     "text": [
      "100%|██████████| 185/185 [00:55<00:00,  3.31it/s]\n"
     ]
    }
   ],
   "source": [
    "import re\n",
    "filename = './data/in.txt'\n",
    "\n",
    "def filter_lines(filename):\n",
    "    with open(filename, 'r') as file:\n",
    "        lines = file.readlines()\n",
    "\n",
    "    # Create a list to store the filtered lines\n",
    "    filtered_lines = []\n",
    "\n",
    "    # Regex pattern to match lines that look like names followed by a colon (e.g., EMMA:, NICO:, etc.)\n",
    "    name_pattern = re.compile(r'^[A-Z][A-Za-z]*:$')\n",
    "\n",
    "    # Iterate over each line\n",
    "    for line in lines:\n",
    "        # print(line)\n",
    "        stripped_line = line.strip()\n",
    "        # if name_pattern.match(stripped_line):\n",
    "        #     print( 'match',name_pattern.match(stripped_line))\n",
    "\n",
    "        # Skip empty lines, lines with special symbols like '=====', and lines that match the name pattern\n",
    "        if stripped_line and not name_pattern.match(stripped_line) and \\\n",
    "            not re.fullmatch(r'[-=]+', stripped_line) and\\\n",
    "                len(stripped_line)>10:\n",
    "            filtered_lines.append(stripped_line)\n",
    "\n",
    "    return filtered_lines\n",
    "\n",
    "text_de = filter_lines(filename)\n",
    "\n",
    "from tqdm import tqdm\n",
    "from deep_translator import GoogleTranslator\n",
    "\n",
    "def translate_text(text_list):\n",
    "    # Use any translator you like, in this example GoogleTranslator\n",
    "    text_list_tanslated = []\n",
    "    for text in tqdm(text_list):\n",
    "        translated = GoogleTranslator(source='de', target='en').translate(text)\n",
    "        text_list_tanslated.append(translated)\n",
    "    # translated = GoogleTranslator(source='de', target='en').translate(text)  # output -> Weiter so, du bist großartig\n",
    "    return text_list_tanslated\n",
    "text_en = translate_text(text_de)\n"
   ]
  },
  {
   "cell_type": "code",
   "execution_count": 33,
   "metadata": {},
   "outputs": [],
   "source": [
    "import os\n",
    "import shutil\n",
    "\n",
    "dir_path = '/Users/aziza/projects/deutsch/audio/data/result/' \n",
    "if os.path.exists(dir_path):\n",
    "    shutil.rmtree(dir_path)\n",
    "os.makedirs(dir_path)"
   ]
  },
  {
   "cell_type": "code",
   "execution_count": 34,
   "metadata": {},
   "outputs": [],
   "source": [
    "import torch\n",
    "from tqdm import tqdm\n",
    "from TTS.api import TTS\n",
    "\n",
    "class TextToSpeech:\n",
    "    def __init__(self, language, path):\n",
    "        self.device = \"cuda\" if torch.cuda.is_available() else \"cpu\"\n",
    "\n",
    "        self.language = language\n",
    "        self.output_path = path\n",
    "\n",
    "        if self.language == 'de':\n",
    "            self.tts = TTS('tts_models/de/css10/vits-neon').to(self.device)\n",
    "            # self.tts = TTS('tts_models/de/thorsten/tacotron2-DCA').to(self.device)\n",
    "            # self.tts = TTS('tts_models/de/thorsten/tacotron2-DDC').to(self.device)\n",
    "            # self.tts = TTS('tts_models/de/thorsten/vits').to(self.device)\n",
    "            # 'tts_models/de/thorsten/vits'\n",
    "           \n",
    "            \n",
    "        elif self.language == 'en':\n",
    "            # self.tts = TTS(\"tts_models/en/ljspeech/tacotron2-DDC\").to(self.device)\n",
    "            # self.tts = TTS('tts_models/en/ljspeech/vits--neon').to(self.device)\n",
    "            self.tts = TTS('tts_models/en/jenny/jenny').to(self.device)\n",
    "            # 'tts_models/en/jenny/jenny'\n",
    "            \n",
    "            \n",
    "        \n",
    "    def text_to_speech(self, text_list):\n",
    "        # Generate audio in English\n",
    "        for idx, text in enumerate(tqdm(text_list)):\n",
    "            output_path = os.path.join(self.output_path, self.language + '_' + str(idx)+'.wav')\n",
    "            self.tts.tts_to_file(text=text, file_path=output_path)\n",
    "           "
   ]
  },
  {
   "cell_type": "code",
   "execution_count": 35,
   "metadata": {},
   "outputs": [
    {
     "name": "stdout",
     "output_type": "stream",
     "text": [
      " > tts_models/de/css10/vits-neon is already downloaded.\n",
      " > Using model: vits\n",
      " > Setting up Audio Processor...\n",
      " | > sample_rate:22050\n",
      " | > resample:False\n",
      " | > num_mels:80\n",
      " | > log_func:np.log10\n",
      " | > min_level_db:0\n",
      " | > frame_shift_ms:None\n",
      " | > frame_length_ms:None\n",
      " | > ref_level_db:None\n",
      " | > fft_size:1024\n",
      " | > power:None\n",
      " | > preemphasis:0.0\n",
      " | > griffin_lim_iters:None\n",
      " | > signal_norm:None\n",
      " | > symmetric_norm:None\n",
      " | > mel_fmin:0\n",
      " | > mel_fmax:None\n",
      " | > pitch_fmin:None\n",
      " | > pitch_fmax:None\n",
      " | > spec_gain:20.0\n",
      " | > stft_pad_mode:reflect\n",
      " | > max_norm:1.0\n",
      " | > clip_norm:True\n",
      " | > do_trim_silence:False\n",
      " | > trim_db:60\n",
      " | > do_sound_norm:False\n",
      " | > do_amp_to_db_linear:True\n",
      " | > do_amp_to_db_mel:True\n",
      " | > do_rms_norm:False\n",
      " | > db_level:None\n",
      " | > stats_path:None\n",
      " | > base:10\n",
      " | > hop_length:256\n",
      " | > win_length:1024\n",
      " > initialization of speaker-embedding layers.\n",
      " > initialization of language-embedding layers.\n"
     ]
    },
    {
     "name": "stderr",
     "output_type": "stream",
     "text": []
    },
    {
     "name": "stdout",
     "output_type": "stream",
     "text": [
      " > Text splitted to sentences.\n",
      "['A1-07-Woher kommst du']\n",
      "a1 07 woher kommst du\n",
      " [!] Character '1' not found in the vocabulary. Discarding it.\n",
      "a1 07 woher kommst du\n",
      " [!] Character '0' not found in the vocabulary. Discarding it.\n",
      "a1 07 woher kommst du\n",
      " [!] Character '7' not found in the vocabulary. Discarding it.\n",
      " > Processing time: 0.19879484176635742\n",
      " > Real-time factor: 0.09056665828405333\n"
     ]
    },
    {
     "name": "stderr",
     "output_type": "stream",
     "text": []
    },
    {
     "name": "stdout",
     "output_type": "stream",
     "text": [
      " > Text splitted to sentences.\n",
      "['Hallo, Lisa!']\n"
     ]
    },
    {
     "name": "stderr",
     "output_type": "stream",
     "text": []
    },
    {
     "name": "stdout",
     "output_type": "stream",
     "text": [
      " > Processing time: 0.21954894065856934\n",
      " > Real-time factor: 0.0895960568093251\n",
      " > Text splitted to sentences.\n",
      "['Hallo, Max, wie geht es dir?']\n",
      " > Processing time: 0.17600321769714355\n",
      " > Real-time factor: 0.05035383732382727\n",
      " > Text splitted to sentences.\n",
      "['Super.', 'Und dir?']\n"
     ]
    },
    {
     "name": "stderr",
     "output_type": "stream",
     "text": []
    },
    {
     "name": "stdout",
     "output_type": "stream",
     "text": [
      " > Processing time: 0.13270902633666992\n",
      " > Real-time factor: 0.04445542705887779\n",
      " > Text splitted to sentences.\n",
      "['Auch gut, danke.']\n",
      " > Processing time: 0.0901339054107666\n",
      " > Real-time factor: 0.042877386397726175\n",
      " > Text splitted to sentences.\n",
      "['Hallo, Max.']\n",
      " > Processing time: 0.08973073959350586\n",
      " > Real-time factor: 0.04414858104330606\n",
      " > Text splitted to sentences.\n",
      "['Und du?', 'Wer bist du?']\n"
     ]
    },
    {
     "name": "stderr",
     "output_type": "stream",
     "text": []
    },
    {
     "name": "stdout",
     "output_type": "stream",
     "text": [
      " > Processing time: 0.2019047737121582\n",
      " > Real-time factor: 0.06230407887865383\n",
      " > Text splitted to sentences.\n",
      "['Ich bin Nico.']\n",
      " > Processing time: 0.10588693618774414\n",
      " > Real-time factor: 0.046996919141299484\n",
      " > Text splitted to sentences.\n",
      "['Hallo, Nico.', 'Du kommst nicht aus Deutschland , oder?']\n"
     ]
    },
    {
     "name": "stderr",
     "output_type": "stream",
     "text": []
    },
    {
     "name": "stdout",
     "output_type": "stream",
     "text": [
      " > Processing time: 0.310291051864624\n",
      " > Real-time factor: 0.052910152913998386\n",
      " > Text splitted to sentences.\n",
      "['Entschuldigung ?']\n",
      " > Processing time: 0.08381009101867676\n",
      " > Real-time factor: 0.04219977409028641\n",
      " > Text splitted to sentences.\n",
      "['Woher kommst du?', 'Ich bin Max und ich komme aus Deutschland.']\n"
     ]
    },
    {
     "name": "stderr",
     "output_type": "stream",
     "text": []
    },
    {
     "name": "stdout",
     "output_type": "stream",
     "text": [
      " > Processing time: 0.2166130542755127\n",
      " > Real-time factor: 0.03960199859690116\n",
      " > Text splitted to sentences.\n",
      "['Und ich bin Emma und ich komme auch aus Deutschland.']\n",
      " > Processing time: 0.1606447696685791\n",
      " > Real-time factor: 0.04045104571524037\n",
      " > Text splitted to sentences.\n",
      "['Ich bin Nico.', 'Ich komme aus ...', 'Spain?']\n"
     ]
    },
    {
     "name": "stderr",
     "output_type": "stream",
     "text": []
    },
    {
     "name": "stdout",
     "output_type": "stream",
     "text": [
      " > Processing time: 0.238739013671875\n",
      " > Real-time factor: 0.04102908133390108\n",
      " > Text splitted to sentences.\n",
      "['Spanien, ja!', 'Ich komme aus Spanien.']\n"
     ]
    },
    {
     "name": "stderr",
     "output_type": "stream",
     "text": []
    },
    {
     "name": "stdout",
     "output_type": "stream",
     "text": [
      " > Processing time: 0.29255223274230957\n",
      " > Real-time factor: 0.06250752647255743\n",
      " > Text splitted to sentences.\n",
      "['Und woher kommst du genau?']\n",
      " > Processing time: 0.10879826545715332\n",
      " > Real-time factor: 0.039036086847992556\n",
      " > Text splitted to sentences.\n",
      "['Wo wohnst du in Spanien?', 'Wohnst du in Barcelona oder in Madrid?']\n"
     ]
    },
    {
     "name": "stderr",
     "output_type": "stream",
     "text": []
    },
    {
     "name": "stdout",
     "output_type": "stream",
     "text": [
      " > Processing time: 0.23360204696655273\n",
      " > Real-time factor: 0.03725211999256891\n",
      " > Text splitted to sentences.\n",
      "['Du wohnst in Sevilla?']\n",
      " > Processing time: 0.1101219654083252\n",
      " > Real-time factor: 0.039023356538531284\n",
      " > Text splitted to sentences.\n",
      "['Ich wohne in Sevilla.']\n"
     ]
    },
    {
     "name": "stderr",
     "output_type": "stream",
     "text": []
    },
    {
     "name": "stdout",
     "output_type": "stream",
     "text": [
      " > Processing time: 0.1208200454711914\n",
      " > Real-time factor: 0.037425292237578255\n",
      " > Text splitted to sentences.\n",
      "['Nico war auch am Flughafen.', 'Er hat ein Problem: Seine Tasche ist weg.']\n"
     ]
    },
    {
     "name": "stderr",
     "output_type": "stream",
     "text": []
    },
    {
     "name": "stdout",
     "output_type": "stream",
     "text": [
      " > Processing time: 0.2718217372894287\n",
      " > Real-time factor: 0.03954025033797698\n",
      " > Text splitted to sentences.\n",
      "['Oh.', 'Und was machst du jetzt?']\n",
      " > Processing time: 0.1765270233154297\n",
      " > Real-time factor: 0.05117297097319658\n",
      " > Text splitted to sentences.\n",
      "['Ich suche meine Tante.']\n"
     ]
    },
    {
     "name": "stderr",
     "output_type": "stream",
     "text": []
    },
    {
     "name": "stdout",
     "output_type": "stream",
     "text": [
      " > Processing time: 0.13158202171325684\n",
      " > Real-time factor: 0.04408861504341894\n",
      " > Text splitted to sentences.\n",
      "['Nicos Tante wohnt hier in Deutschland.', 'Aber er hat die Adresse nicht.']\n"
     ]
    },
    {
     "name": "stderr",
     "output_type": "stream",
     "text": []
    },
    {
     "name": "stdout",
     "output_type": "stream",
     "text": [
      " > Processing time: 0.313183069229126\n",
      " > Real-time factor: 0.04443127622826737\n",
      " > Text splitted to sentences.\n",
      "['Kannst du deine Tante anrufen?']\n",
      " > Processing time: 0.11865401268005371\n",
      " > Real-time factor: 0.03826820997535666\n",
      " > Text splitted to sentences.\n",
      "['Meine Tasche ist weg.', 'Mein Telefon ist weg.', 'Und die Nummer ist weg.']\n"
     ]
    },
    {
     "name": "stderr",
     "output_type": "stream",
     "text": []
    },
    {
     "name": "stdout",
     "output_type": "stream",
     "text": [
      " > Processing time: 0.34127306938171387\n",
      " > Real-time factor: 0.038165783392167044\n",
      " > Text splitted to sentences.\n",
      "['Und deine Familie?', 'Kannst du deine Familie anrufen?']\n"
     ]
    },
    {
     "name": "stderr",
     "output_type": "stream",
     "text": []
    },
    {
     "name": "stdout",
     "output_type": "stream",
     "text": [
      " > Processing time: 0.2634999752044678\n",
      " > Real-time factor: 0.04583891736034551\n",
      " > Text splitted to sentences.\n",
      "['Kann dein Vater nicht helfen?', 'Er ist doch bei der Polizei .']\n"
     ]
    },
    {
     "name": "stderr",
     "output_type": "stream",
     "text": []
    },
    {
     "name": "stdout",
     "output_type": "stream",
     "text": [
      " > Processing time: 0.22032499313354492\n",
      " > Real-time factor: 0.03698360306481931\n",
      " > Text splitted to sentences.\n",
      "['Mein Vater ist Polizist.', 'Police.', 'Vielleicht hilft er uns.', 'Moment!']\n"
     ]
    },
    {
     "name": "stderr",
     "output_type": "stream",
     "text": []
    },
    {
     "name": "stdout",
     "output_type": "stream",
     "text": [
      " > Processing time: 0.5382249355316162\n",
      " > Real-time factor: 0.051899051167052096\n",
      " > Text splitted to sentences.\n",
      "['A1-08-Nico hat ein Problem']\n",
      "a1 08 nico hat ein problem\n",
      " [!] Character '8' not found in the vocabulary. Discarding it.\n",
      " > Processing time: 0.12714481353759766\n",
      " > Real-time factor: 0.046001954884878384\n",
      " > Text splitted to sentences.\n",
      "['Polizeirevier Ost, Brunner hier.', 'Ah, hallo, Lisa.', 'Wie geht’s dir?', 'Was ist los?', 'Geht es Emma nicht gut?']\n",
      "wie geht’s dir?\n",
      " [!] Character '’' not found in the vocabulary. Discarding it.\n"
     ]
    },
    {
     "name": "stderr",
     "output_type": "stream",
     "text": []
    },
    {
     "name": "stdout",
     "output_type": "stream",
     "text": [
      " > Processing time: 0.5379869937896729\n",
      " > Real-time factor: 0.03929266658627341\n",
      " > Text splitted to sentences.\n",
      "['Doch, keine Sorge!', 'Emma geht es gut.', 'Aber Nico hat ein Problem.', 'Er war auch am Flughafen.', 'Er kommt aus Spanien.', 'Ja, genau.', 'Er kommt aus Spanien und er hat ein Problem.', 'Seine Tasche ist weg und er spricht nicht gut Deutsch.']\n"
     ]
    },
    {
     "name": "stderr",
     "output_type": "stream",
     "text": []
    },
    {
     "name": "stdout",
     "output_type": "stream",
     "text": [
      " > Processing time: 1.0393810272216797\n",
      " > Real-time factor: 0.04213923800129081\n",
      " > Text splitted to sentences.\n",
      "['Hat er Papiere?', 'Einen Ausweis oder einen Pass ?']\n"
     ]
    },
    {
     "name": "stderr",
     "output_type": "stream",
     "text": []
    },
    {
     "name": "stdout",
     "output_type": "stream",
     "text": [
      " > Processing time: 0.2073819637298584\n",
      " > Real-time factor: 0.04021928915919098\n",
      " > Text splitted to sentences.\n",
      "['Hast du einen Pass?', 'Passport?']\n",
      " > Processing time: 0.1439208984375\n",
      " > Real-time factor: 0.038966795316145324\n",
      " > Text splitted to sentences.\n",
      "['Nein.', 'Nicos Pass ist in seiner Tasche.', 'Aber er hat ein Foto von seiner Tante.', 'Sie wohnt auch hier in Deutschland, aber Nico hat die Adresse nicht.']\n"
     ]
    },
    {
     "name": "stderr",
     "output_type": "stream",
     "text": []
    },
    {
     "name": "stdout",
     "output_type": "stream",
     "text": [
      " > Processing time: 0.5508670806884766\n",
      " > Real-time factor: 0.03910795876642318\n",
      " > Text splitted to sentences.\n",
      "['Meine Tante … She has a bicycle shop.']\n",
      "meine tante … she has a bicycle shop.\n",
      " [!] Character '…' not found in the vocabulary. Discarding it.\n",
      " > Processing time: 0.17463922500610352\n",
      " > Real-time factor: 0.04097985390116404\n"
     ]
    },
    {
     "name": "stderr",
     "output_type": "stream",
     "text": []
    },
    {
     "name": "stdout",
     "output_type": "stream",
     "text": [
      " > Text splitted to sentences.\n",
      "['Seine Tante hat ein Geschäft, ein Fahrradgeschäft .']\n",
      " > Processing time: 0.1726551055908203\n",
      " > Real-time factor: 0.03745322168933563\n",
      " > Text splitted to sentences.\n",
      "['Wir suchen also eine Adresse.', 'Die Frau hat ein Fahrradgeschäft.', 'Richtig ?', 'Okay.', 'Dann komm doch mit Nico zur Polizei.']\n"
     ]
    },
    {
     "name": "stderr",
     "output_type": "stream",
     "text": []
    },
    {
     "name": "stdout",
     "output_type": "stream",
     "text": [
      " > Processing time: 0.5084819793701172\n",
      " > Real-time factor: 0.03958825647248419\n",
      " > Text splitted to sentences.\n",
      "['Danke, Papa !']\n"
     ]
    },
    {
     "name": "stderr",
     "output_type": "stream",
     "text": []
    },
    {
     "name": "stdout",
     "output_type": "stream",
     "text": [
      " > Processing time: 0.22067975997924805\n",
      " > Real-time factor: 0.038086949808566216\n",
      " > Text splitted to sentences.\n",
      "['Gerne.', 'Bis später.']\n",
      " > Processing time: 0.14353394508361816\n",
      " > Real-time factor: 0.03814263749871988\n",
      " > Text splitted to sentences.\n",
      "['Bis später!']\n",
      " > Processing time: 0.08484101295471191\n",
      " > Real-time factor: 0.04222517911816987\n",
      " > Text splitted to sentences.\n",
      "['Vielleicht kann mein Vater uns helfen.', 'Er hilft.', 'He helps.']\n"
     ]
    },
    {
     "name": "stderr",
     "output_type": "stream",
     "text": []
    },
    {
     "name": "stdout",
     "output_type": "stream",
     "text": [
      " > Processing time: 0.32143092155456543\n",
      " > Real-time factor: 0.04651601268165342\n",
      " > Text splitted to sentences.\n",
      "['Mach’s gut, Lisa.', 'Ciao, Emma.']\n"
     ]
    },
    {
     "name": "stderr",
     "output_type": "stream",
     "text": []
    },
    {
     "name": "stdout",
     "output_type": "stream",
     "text": [
      " > Processing time: 0.2190840244293213\n",
      " > Real-time factor: 0.04074563713450181\n",
      " > Text splitted to sentences.\n",
      "['Tschüss, Max!']\n",
      " > Processing time: 0.09122371673583984\n",
      " > Real-time factor: 0.04200390398482435\n",
      " > Text splitted to sentences.\n",
      "['Ciao, Nico.', 'Viel Erfolg!']\n"
     ]
    },
    {
     "name": "stderr",
     "output_type": "stream",
     "text": []
    },
    {
     "name": "stdout",
     "output_type": "stream",
     "text": [
      " > Processing time: 0.19204473495483398\n",
      " > Real-time factor: 0.04363034130557708\n",
      " > Text splitted to sentences.\n",
      "['A1-09-Zahlen von 1 bis 100']\n",
      "a1 09 zahlen von 1 bis 100\n",
      " [!] Character '9' not found in the vocabulary. Discarding it.\n",
      " > Processing time: 0.0828399658203125\n",
      " > Real-time factor: 0.03794078693789238\n",
      " > Text splitted to sentences.\n",
      "['Wie ist die Hausnummer , Emma?', '38 oder 83?']\n"
     ]
    },
    {
     "name": "stderr",
     "output_type": "stream",
     "text": []
    },
    {
     "name": "stdout",
     "output_type": "stream",
     "text": [
      "38 oder 83?\n",
      " [!] Character '3' not found in the vocabulary. Discarding it.\n",
      " > Processing time: 0.2853240966796875\n",
      " > Real-time factor: 0.0594874842264288\n",
      " > Text splitted to sentences.\n",
      "['Moment … elf.']\n",
      " > Processing time: 0.10901117324829102\n",
      " > Real-time factor: 0.04011509295935942\n",
      " > Text splitted to sentences.\n",
      "['Ah, ja.', 'Dann sind wir richtig hier.']\n"
     ]
    },
    {
     "name": "stderr",
     "output_type": "stream",
     "text": []
    },
    {
     "name": "stdout",
     "output_type": "stream",
     "text": [
      " > Processing time: 0.18695926666259766\n",
      " > Real-time factor: 0.038421300234028094\n",
      " > Text splitted to sentences.\n",
      "['Wie viele Zahlen sind das?']\n",
      " > Processing time: 0.11065411567687988\n",
      " > Real-time factor: 0.03707639269807928\n",
      " > Text splitted to sentences.\n",
      "['Das sind 31 Zahlen.']\n"
     ]
    },
    {
     "name": "stderr",
     "output_type": "stream",
     "text": []
    },
    {
     "name": "stdout",
     "output_type": "stream",
     "text": [
      " > Processing time: 0.13176512718200684\n",
      " > Real-time factor: 0.03732555311360805\n",
      " > Text splitted to sentences.\n",
      "['Eins , zwei , drei , vier , fünf …']\n",
      " > Processing time: 0.1368570327758789\n",
      " > Real-time factor: 0.04149749137387417\n",
      " > Text splitted to sentences.\n",
      "['Eins, zwei, drei, vier, fünf.']\n"
     ]
    },
    {
     "name": "stderr",
     "output_type": "stream",
     "text": []
    },
    {
     "name": "stdout",
     "output_type": "stream",
     "text": [
      " > Processing time: 0.13072919845581055\n",
      " > Real-time factor: 0.03790472893370796\n",
      " > Text splitted to sentences.\n",
      "['... sechs , sieben , acht , neun , zehn , elf , zwölf .']\n",
      " > Processing time: 0.17506623268127441\n",
      " > Real-time factor: 0.03465926618501383\n",
      " > Text splitted to sentences.\n",
      "['Sechs, sieben, acht, neun, zehn, elf, zwölf.']\n"
     ]
    },
    {
     "name": "stderr",
     "output_type": "stream",
     "text": []
    },
    {
     "name": "stdout",
     "output_type": "stream",
     "text": [
      " > Processing time: 0.1392650604248047\n",
      " > Real-time factor: 0.03712994029753027\n",
      " > Text splitted to sentences.\n",
      "['Was ist das?']\n",
      " > Processing time: 0.09142279624938965\n",
      " > Real-time factor: 0.046577464355338306\n",
      " > Text splitted to sentences.\n",
      "['Eine Einladung zum Geburtstag von Charlotte.']\n"
     ]
    },
    {
     "name": "stderr",
     "output_type": "stream",
     "text": []
    },
    {
     "name": "stdout",
     "output_type": "stream",
     "text": [
      " > Processing time: 0.1540508270263672\n",
      " > Real-time factor: 0.03528357919157591\n",
      " > Text splitted to sentences.\n",
      "['Geburtstag?']\n",
      " > Processing time: 0.09213995933532715\n",
      " > Real-time factor: 0.037961250062480634\n",
      " > Text splitted to sentences.\n",
      "['Happy birthday to you …']\n"
     ]
    },
    {
     "name": "stderr",
     "output_type": "stream",
     "text": []
    },
    {
     "name": "stdout",
     "output_type": "stream",
     "text": [
      " > Processing time: 0.10479402542114258\n",
      " > Real-time factor: 0.03713532174942456\n",
      " > Text splitted to sentences.\n",
      "['Ah, Geburtstag!']\n",
      " > Processing time: 0.08569502830505371\n",
      " > Real-time factor: 0.03783994260906829\n",
      " > Text splitted to sentences.\n",
      "['Ja, und das hier ist ein Geschenk .']\n"
     ]
    },
    {
     "name": "stderr",
     "output_type": "stream",
     "text": []
    },
    {
     "name": "stdout",
     "output_type": "stream",
     "text": [
      " > Processing time: 0.1507580280303955\n",
      " > Real-time factor: 0.03698832248164301\n",
      " > Text splitted to sentences.\n",
      "['Tschüss, Nico!', 'Bis morgen !']\n"
     ]
    },
    {
     "name": "stderr",
     "output_type": "stream",
     "text": []
    },
    {
     "name": "stdout",
     "output_type": "stream",
     "text": [
      " > Processing time: 0.28155016899108887\n",
      " > Real-time factor: 0.05093348997648258\n",
      " > Text splitted to sentences.\n",
      "['Tschüss, Emma!']\n",
      " > Processing time: 0.09746408462524414\n",
      " > Real-time factor: 0.04113864980831993\n",
      " > Text splitted to sentences.\n",
      "['A1-10-Wichtige Nummern']\n"
     ]
    },
    {
     "name": "stderr",
     "output_type": "stream",
     "text": []
    },
    {
     "name": "stdout",
     "output_type": "stream",
     "text": [
      " > Processing time: 0.091094970703125\n",
      " > Real-time factor: 0.03826280295649014\n",
      " > Text splitted to sentences.\n",
      "['MUTTER VON LOTTE:']\n",
      " > Processing time: 0.08570384979248047\n",
      " > Real-time factor: 0.04340706284280123\n",
      " > Text splitted to sentences.\n",
      "['Lisa!', 'Hallo!', 'Und Emma!']\n"
     ]
    },
    {
     "name": "stderr",
     "output_type": "stream",
     "text": []
    },
    {
     "name": "stdout",
     "output_type": "stream",
     "text": [
      " > Processing time: 0.27449893951416016\n",
      " > Real-time factor: 0.037222655812058636\n",
      " > Text splitted to sentences.\n",
      "['Lotte!', 'Tschüss, Lisa.']\n",
      " > Processing time: 0.15408825874328613\n",
      " > Real-time factor: 0.043640131849689935\n",
      " > Text splitted to sentences.\n",
      "['Tschüss, meine Süße.', 'Hab viel Spaß, ja!', 'Herzlichen Glückwunsch, Lotte!', 'Wie alt ist Lotte jetzt?']\n"
     ]
    },
    {
     "name": "stderr",
     "output_type": "stream",
     "text": []
    },
    {
     "name": "stdout",
     "output_type": "stream",
     "text": [
      " > Processing time: 0.4916348457336426\n",
      " > Real-time factor: 0.04284937210831496\n",
      " > Text splitted to sentences.\n",
      "['MUTTER VON LOTTE:']\n",
      " > Processing time: 0.09241485595703125\n",
      " > Real-time factor: 0.04653241628271235\n",
      " > Text splitted to sentences.\n",
      "['Sie ist acht.']\n"
     ]
    },
    {
     "name": "stderr",
     "output_type": "stream",
     "text": []
    },
    {
     "name": "stdout",
     "output_type": "stream",
     "text": [
      " > Processing time: 0.08648085594177246\n",
      " > Real-time factor: 0.04803765803899846\n",
      " > Text splitted to sentences.\n",
      "['Ah, Emma ist auch acht Jahre alt.', 'Ich hab hier Emmas Schlafsack und ihre Isomatte.']\n"
     ]
    },
    {
     "name": "stderr",
     "output_type": "stream",
     "text": []
    },
    {
     "name": "stdout",
     "output_type": "stream",
     "text": [
      " > Processing time: 0.2899610996246338\n",
      " > Real-time factor: 0.037662831330838684\n",
      " > Text splitted to sentences.\n",
      "['MUTTER VON LOTTE:']\n",
      " > Processing time: 0.0785210132598877\n",
      " > Real-time factor: 0.039306854848813196\n",
      " > Text splitted to sentences.\n",
      "['Super, danke!']\n",
      " > Processing time: 0.08930802345275879\n",
      " > Real-time factor: 0.040260915872042266\n",
      " > Text splitted to sentences.\n",
      "['Wo hast du deine Traumfrau kennengelernt?']\n"
     ]
    },
    {
     "name": "stderr",
     "output_type": "stream",
     "text": []
    },
    {
     "name": "stdout",
     "output_type": "stream",
     "text": [
      " > Processing time: 0.13989710807800293\n",
      " > Real-time factor: 0.03949922189510301\n",
      " > Text splitted to sentences.\n",
      "['Im Fundbüro .']\n",
      " > Processing time: 0.11701202392578125\n",
      " > Real-time factor: 0.03831247219594139\n",
      " > Text splitted to sentences.\n",
      "['Im Fundbüro?', 'Hat sie jemand abgegeben?']\n"
     ]
    },
    {
     "name": "stderr",
     "output_type": "stream",
     "text": []
    },
    {
     "name": "stdout",
     "output_type": "stream",
     "text": [
      " > Processing time: 0.2529318332672119\n",
      " > Real-time factor: 0.04683844164490411\n",
      " > Text splitted to sentences.\n",
      "['Nein, auf gar keinen Fall.', 'Nein, sie arbeitet da.', 'Ich habe meine Tasche verloren und ein Mann hat sie abgegeben.', 'Dieser Mann war unser Amor.']\n"
     ]
    },
    {
     "name": "stderr",
     "output_type": "stream",
     "text": []
    },
    {
     "name": "stdout",
     "output_type": "stream",
     "text": [
      " > Processing time: 0.5472378730773926\n",
      " > Real-time factor: 0.03950147673553225\n",
      " > Text splitted to sentences.\n",
      "['Und den Finder der Tasche willst du suchen?']\n",
      " > Processing time: 0.14959216117858887\n",
      " > Real-time factor: 0.04265605154650171\n",
      " > Text splitted to sentences.\n",
      "['Tasche verloren?']\n"
     ]
    },
    {
     "name": "stderr",
     "output_type": "stream",
     "text": []
    },
    {
     "name": "stdout",
     "output_type": "stream",
     "text": [
      " > Processing time: 0.10501813888549805\n",
      " > Real-time factor: 0.04590171983874944\n",
      " > Text splitted to sentences.\n",
      "['Ganz genau.', 'Er hat mein Leben verändert und ich würde mich gerne bedanken.']\n"
     ]
    },
    {
     "name": "stderr",
     "output_type": "stream",
     "text": []
    },
    {
     "name": "stdout",
     "output_type": "stream",
     "text": [
      " > Processing time: 0.3073868751525879\n",
      " > Real-time factor: 0.041686433509118305\n",
      " > Text splitted to sentences.\n",
      "['Also, wenn du das hörst , edler Finder, dann greif zum Telefon und ruf an.', 'Die Telefonnummer ist 08007773344.', 'Und noch mal: 0800, dann dreimal die Sieben, zweimal die Drei, zweimal die Vier.']\n",
      "die telefonnummer ist 08007773344.\n",
      " [!] Character '4' not found in the vocabulary. Discarding it.\n"
     ]
    },
    {
     "name": "stderr",
     "output_type": "stream",
     "text": []
    },
    {
     "name": "stdout",
     "output_type": "stream",
     "text": [
      " > Processing time: 0.5275189876556396\n",
      " > Real-time factor: 0.036666520646740725\n",
      " > Text splitted to sentences.\n",
      "['7773344 … 7773344.', 'Tasche verloren.']\n",
      " > Processing time: 0.15123987197875977\n",
      " > Real-time factor: 0.0414698465122818\n",
      " > Text splitted to sentences.\n",
      "['Wir machen kurz Werbung und dann wollen wir wissen, wen ihr sucht!', 'Ruft an!']\n"
     ]
    },
    {
     "name": "stderr",
     "output_type": "stream",
     "text": []
    },
    {
     "name": "stdout",
     "output_type": "stream",
     "text": [
      " > Processing time: 0.2410597801208496\n",
      " > Real-time factor: 0.03654681072376742\n",
      " > Text splitted to sentences.\n",
      "['A1-11-Adressen']\n",
      " > Processing time: 0.14801788330078125\n",
      " > Real-time factor: 0.05565815700515393\n",
      " > Text splitted to sentences.\n",
      "['So, hier ist noch meine Handynummer.']\n"
     ]
    },
    {
     "name": "stderr",
     "output_type": "stream",
     "text": []
    },
    {
     "name": "stdout",
     "output_type": "stream",
     "text": [
      " > Processing time: 0.1959671974182129\n",
      " > Real-time factor: 0.05192603229032391\n",
      " > Text splitted to sentences.\n",
      "['MUTTER VON LOTTE:']\n",
      " > Processing time: 0.08012223243713379\n",
      " > Real-time factor: 0.03987665279069159\n",
      " > Text splitted to sentences.\n",
      "['Ist das eine Zwei oder eine Sieben?']\n"
     ]
    },
    {
     "name": "stderr",
     "output_type": "stream",
     "text": []
    },
    {
     "name": "stdout",
     "output_type": "stream",
     "text": [
      " > Processing time: 0.12319588661193848\n",
      " > Real-time factor: 0.03536332664800619\n",
      " > Text splitted to sentences.\n",
      "['Das ist eine Sieben … 0173 90 76 34 29 58.']\n",
      "das ist eine sieben … 0173 90 76 34 29 58.\n",
      " [!] Character '6' not found in the vocabulary. Discarding it.\n",
      "das ist eine sieben … 0173 90 76 34 29 58.\n",
      " [!] Character '2' not found in the vocabulary. Discarding it.\n",
      "das ist eine sieben … 0173 90 76 34 29 58.\n",
      " [!] Character '5' not found in the vocabulary. Discarding it.\n"
     ]
    },
    {
     "name": "stderr",
     "output_type": "stream",
     "text": []
    },
    {
     "name": "stdout",
     "output_type": "stream",
     "text": [
      " > Processing time: 0.2765169143676758\n",
      " > Real-time factor: 0.04377655055863908\n",
      " > Text splitted to sentences.\n",
      "['MUTTER VON LOTTE:']\n",
      " > Processing time: 0.0794527530670166\n",
      " > Real-time factor: 0.0397732747259289\n",
      " > Text splitted to sentences.\n",
      "['0173 90 76 34 29 58.']\n",
      " > Processing time: 0.04733014106750488\n",
      " > Real-time factor: 0.041572243886969514\n",
      " > Text splitted to sentences.\n",
      "['Hallo, wer ist da?']\n"
     ]
    },
    {
     "name": "stderr",
     "output_type": "stream",
     "text": []
    },
    {
     "name": "stdout",
     "output_type": "stream",
     "text": [
      " > Processing time: 0.10876798629760742\n",
      " > Real-time factor: 0.0419994063088793\n",
      " > Text splitted to sentences.\n",
      "['MUTTER VON LOTTE:']\n",
      " > Processing time: 0.07494211196899414\n",
      " > Real-time factor: 0.03773459921712461\n",
      " > Text splitted to sentences.\n",
      "['Alles klar, danke.']\n",
      " > Processing time: 0.08579587936401367\n",
      " > Real-time factor: 0.03420232752343979\n",
      " > Text splitted to sentences.\n",
      "['Ja, hallo!', 'Wie heißt du?']\n"
     ]
    },
    {
     "name": "stderr",
     "output_type": "stream",
     "text": []
    },
    {
     "name": "stdout",
     "output_type": "stream",
     "text": [
      " > Processing time: 0.16355204582214355\n",
      " > Real-time factor: 0.042672314113714804\n",
      " > Text splitted to sentences.\n",
      "['Nico, wie geht’s?']\n",
      " > Processing time: 0.09676599502563477\n",
      " > Real-time factor: 0.03638625836144691\n",
      " > Text splitted to sentences.\n",
      "['Danke, danke, mir geht’s gut .']\n"
     ]
    },
    {
     "name": "stderr",
     "output_type": "stream",
     "text": []
    },
    {
     "name": "stdout",
     "output_type": "stream",
     "text": [
      " > Processing time: 0.12546396255493164\n",
      " > Real-time factor: 0.03650095490732851\n",
      " > Text splitted to sentences.\n",
      "['Oh mein Gott …']\n",
      " > Processing time: 0.07293295860290527\n",
      " > Real-time factor: 0.03900300099907987\n",
      " > Text splitted to sentences.\n",
      "['Wie geht’s dir?']\n",
      " > Processing time: 0.09815573692321777\n",
      " > Real-time factor: 0.03841831154425149\n",
      " > Text splitted to sentences.\n",
      "['Hmm.', 'Nicht so gut.']\n"
     ]
    },
    {
     "name": "stderr",
     "output_type": "stream",
     "text": []
    },
    {
     "name": "stdout",
     "output_type": "stream",
     "text": [
      " > Processing time: 0.17717719078063965\n",
      " > Real-time factor: 0.03702946861458432\n",
      " > Text splitted to sentences.\n",
      "['Nicht so gut?', 'Warum nicht so gut?']\n"
     ]
    },
    {
     "name": "stderr",
     "output_type": "stream",
     "text": []
    },
    {
     "name": "stdout",
     "output_type": "stream",
     "text": [
      " > Processing time: 0.19349884986877441\n",
      " > Real-time factor: 0.043163742712108245\n",
      " > Text splitted to sentences.\n",
      "['Meine Tasche.', 'Meine Tasche ...', 'Tasche verloren ...']\n"
     ]
    },
    {
     "name": "stderr",
     "output_type": "stream",
     "text": []
    },
    {
     "name": "stdout",
     "output_type": "stream",
     "text": [
      " > Processing time: 0.2852799892425537\n",
      " > Real-time factor: 0.0366643183041028\n",
      " > Text splitted to sentences.\n",
      "['Oh, okay, Moment ...', 'Du hast deine Tasche verloren?', 'Wie ist das passiert?']\n"
     ]
    },
    {
     "name": "stderr",
     "output_type": "stream",
     "text": []
    },
    {
     "name": "stdout",
     "output_type": "stream",
     "text": [
      " > Processing time: 0.29859495162963867\n",
      " > Real-time factor: 0.03803504646590219\n",
      " > Text splitted to sentences.\n",
      "['Oh, hallo ...', 'Wer bist du denn?']\n",
      " > Processing time: 0.16368412971496582\n",
      " > Real-time factor: 0.036703090020084164\n",
      " > Text splitted to sentences.\n",
      "['Entschuldigung.', 'Ich bin nicht Nico.', 'Mein Name ist Lisa.', 'Nico spricht nicht so gut Deutsch.', 'Er sucht seine Tasche.', 'Seine Tasche ist schwarz und ... sie hat einen Aufnäher mit einem Fahrrad.']\n"
     ]
    },
    {
     "name": "stderr",
     "output_type": "stream",
     "text": []
    },
    {
     "name": "stdout",
     "output_type": "stream",
     "text": [
      " > Processing time: 0.732151985168457\n",
      " > Real-time factor: 0.037417375753181034\n",
      " > Text splitted to sentences.\n",
      "['Nicos Pass ist in der Tasche.', 'Also wenn ihr die Tasche findet, dann gebt sie bitte bei der Polizeistelle Ost ab.', 'Die ist in der Schreinerstraße 144.']\n"
     ]
    },
    {
     "name": "stderr",
     "output_type": "stream",
     "text": []
    },
    {
     "name": "stdout",
     "output_type": "stream",
     "text": [
      " > Processing time: 0.47455906867980957\n",
      " > Real-time factor: 0.03732247426378831\n",
      " > Text splitted to sentences.\n",
      "['Scheinerstraße 144?']\n",
      " > Processing time: 0.10881209373474121\n",
      " > Real-time factor: 0.04879813429163366\n",
      " > Text splitted to sentences.\n",
      "['Nein, Schreinerstraße, mit „R“, S-C-H-R-E-I-N-E-R.', 'Und die Hausnummer ist die 144.']\n",
      "nein, schreinerstraße, mit „r“, s c h r e i n e r.\n",
      " [!] Character '„' not found in the vocabulary. Discarding it.\n",
      "nein, schreinerstraße, mit „r“, s c h r e i n e r.\n",
      " [!] Character '“' not found in the vocabulary. Discarding it.\n"
     ]
    },
    {
     "name": "stderr",
     "output_type": "stream",
     "text": []
    },
    {
     "name": "stdout",
     "output_type": "stream",
     "text": [
      " > Processing time: 0.2693500518798828\n",
      " > Real-time factor: 0.03699402434193377\n",
      " > Text splitted to sentences.\n",
      "['Danke euch!', 'Viel Glück!']\n"
     ]
    },
    {
     "name": "stderr",
     "output_type": "stream",
     "text": []
    },
    {
     "name": "stdout",
     "output_type": "stream",
     "text": [
      " > Processing time: 0.30792784690856934\n",
      " > Real-time factor: 0.04354228032227295\n",
      " > Text splitted to sentences.\n",
      "['Was soll das denn?']\n",
      " > Processing time: 0.08846282958984375\n",
      " > Real-time factor: 0.04454250530818539\n",
      " > Text splitted to sentences.\n",
      "['Entschuldigung ...']\n"
     ]
    },
    {
     "name": "stderr",
     "output_type": "stream",
     "text": []
    },
    {
     "name": "stdout",
     "output_type": "stream",
     "text": [
      " > Processing time: 0.12293195724487305\n",
      " > Real-time factor: 0.04025079676362335\n",
      " > Text splitted to sentences.\n",
      "['A1-12-Auf dem Amt']\n",
      " > Processing time: 0.08592915534973145\n",
      " > Real-time factor: 0.04377860155872409\n",
      " > Text splitted to sentences.\n",
      "['Hallo, Papa!']\n",
      " > Processing time: 0.09269094467163086\n",
      " > Real-time factor: 0.04560503681741924\n",
      " > Text splitted to sentences.\n",
      "['Ah!', 'Hallo, Lisa!', 'Guten Tag, Jürgen Brunner mein Name.', 'Sie sind Nico?']\n"
     ]
    },
    {
     "name": "stderr",
     "output_type": "stream",
     "text": []
    },
    {
     "name": "stdout",
     "output_type": "stream",
     "text": [
      " > Processing time: 0.40830087661743164\n",
      " > Real-time factor: 0.03945930193467027\n",
      " > Text splitted to sentences.\n",
      "['Ja.', 'Ich heiße Nicolás González.']\n"
     ]
    },
    {
     "name": "stderr",
     "output_type": "stream",
     "text": []
    },
    {
     "name": "stdout",
     "output_type": "stream",
     "text": [
      " > Processing time: 0.22072696685791016\n",
      " > Real-time factor: 0.04309851958076756\n",
      " > Text splitted to sentences.\n",
      "['Herr González, freut mich sehr.', 'Setzen Sie sich doch bitte.', 'Wie kann ich Ihnen helfen?']\n"
     ]
    },
    {
     "name": "stderr",
     "output_type": "stream",
     "text": []
    },
    {
     "name": "stdout",
     "output_type": "stream",
     "text": [
      " > Processing time: 0.3703920841217041\n",
      " > Real-time factor: 0.04448336304402819\n",
      " > Text splitted to sentences.\n",
      "['Wie ist Ihr Geburtsdatum?', 'Ich meine: Wann haben Sie Geburtstag?', 'Geburtstag?']\n"
     ]
    },
    {
     "name": "stderr",
     "output_type": "stream",
     "text": []
    },
    {
     "name": "stdout",
     "output_type": "stream",
     "text": [
      " > Processing time: 0.36493420600891113\n",
      " > Real-time factor: 0.04340424205195743\n",
      " > Text splitted to sentences.\n",
      "['Geburtstag.']\n",
      " > Processing time: 0.0900118350982666\n",
      " > Real-time factor: 0.038752752341392895\n",
      " > Text splitted to sentences.\n",
      "['Wir nehmen meine Adresse.', 'Ich wohne in der Wagnergasse 136.']\n"
     ]
    },
    {
     "name": "stderr",
     "output_type": "stream",
     "text": []
    },
    {
     "name": "stdout",
     "output_type": "stream",
     "text": [
      " > Processing time: 0.22513222694396973\n",
      " > Real-time factor: 0.037139136971170494\n",
      " > Text splitted to sentences.\n",
      "['Ihre Passnummer !', 'Passnummer.']\n"
     ]
    },
    {
     "name": "stderr",
     "output_type": "stream",
     "text": []
    },
    {
     "name": "stdout",
     "output_type": "stream",
     "text": [
      " > Processing time: 0.2493431568145752\n",
      " > Real-time factor: 0.04607482407952353\n",
      " > Text splitted to sentences.\n",
      "['Mein Pass ist weg.']\n",
      " > Processing time: 0.18451285362243652\n",
      " > Real-time factor: 0.05175692578840226\n"
     ]
    },
    {
     "name": "stderr",
     "output_type": "stream",
     "text": []
    },
    {
     "name": "stdout",
     "output_type": "stream",
     "text": [
      " > Text splitted to sentences.\n",
      "['Oh, das ist nicht gut.']\n",
      " > Processing time: 0.11841607093811035\n",
      " > Real-time factor: 0.046559813912006656\n",
      " > Text splitted to sentences.\n",
      "['Das ist Yara.']\n"
     ]
    },
    {
     "name": "stderr",
     "output_type": "stream",
     "text": []
    },
    {
     "name": "stdout",
     "output_type": "stream",
     "text": [
      " > Processing time: 0.08318495750427246\n",
      " > Real-time factor: 0.035813579993931734\n",
      " > Text splitted to sentences.\n",
      "['Und wer ist Yara?']\n",
      " > Processing time: 0.0957329273223877\n",
      " > Real-time factor: 0.03764106718007576\n",
      " > Text splitted to sentences.\n",
      "['Seine Tante!']\n",
      " > Processing time: 0.08699703216552734\n",
      " > Real-time factor: 0.03764294661008395\n",
      " > Text splitted to sentences.\n",
      "['Yara ist Ihre Tante.']\n"
     ]
    },
    {
     "name": "stderr",
     "output_type": "stream",
     "text": []
    },
    {
     "name": "stdout",
     "output_type": "stream",
     "text": [
      " > Processing time: 0.1059119701385498\n",
      " > Real-time factor: 0.036923838564935224\n",
      " > Text splitted to sentences.\n",
      "['Ja, meine Tante.']\n",
      " > Processing time: 0.09886503219604492\n",
      " > Real-time factor: 0.03701395612474176\n",
      " > Text splitted to sentences.\n",
      "['Wo wohnt Yara?', 'Haben Sie eine Adresse?', 'Ist Yara informiert, dass Sie hier sind?']\n"
     ]
    },
    {
     "name": "stderr",
     "output_type": "stream",
     "text": []
    },
    {
     "name": "stdout",
     "output_type": "stream",
     "text": [
      " > Processing time: 0.37438106536865234\n",
      " > Real-time factor: 0.04356530488146365\n",
      " > Text splitted to sentences.\n",
      "['Does Yara know you are here?', 'Is she waiting for you?']\n"
     ]
    },
    {
     "name": "stderr",
     "output_type": "stream",
     "text": []
    },
    {
     "name": "stdout",
     "output_type": "stream",
     "text": [
      " > Processing time: 0.2112119197845459\n",
      " > Real-time factor: 0.03425234489916184\n",
      " > Text splitted to sentences.\n",
      "['Seine Tante weiß nicht, warum er hier ist?']\n",
      " > Processing time: 0.13427114486694336\n",
      " > Real-time factor: 0.03729941977822139\n",
      " > Text splitted to sentences.\n",
      "['Warum ist er denn hier in Deutschland?']\n"
     ]
    },
    {
     "name": "stderr",
     "output_type": "stream",
     "text": []
    },
    {
     "name": "stdout",
     "output_type": "stream",
     "text": [
      " > Processing time: 0.13510799407958984\n",
      " > Real-time factor: 0.03984500413886898\n",
      " > Text splitted to sentences.\n",
      "['Ich weiß es nicht.', 'Aber ich werd’s rausfinden.']\n"
     ]
    },
    {
     "name": "stderr",
     "output_type": "stream",
     "text": []
    },
    {
     "name": "stdout",
     "output_type": "stream",
     "text": [
      " > Processing time: 0.22908377647399902\n",
      " > Real-time factor: 0.04224057793059003\n",
      " > Text splitted to sentences.\n",
      "['Ich helfe Nico.']\n",
      " > Processing time: 0.09232115745544434\n",
      " > Real-time factor: 0.04097587604453598\n",
      " > Text splitted to sentences.\n",
      "['Danke, Papa.']\n",
      " > Processing time: 0.0844728946685791\n",
      " > Real-time factor: 0.041092201893800064\n",
      " > Text splitted to sentences.\n",
      "['Gerne.', 'Wir telefonieren!', 'Hab viel Spaß heute Abend bei der Party.']\n"
     ]
    },
    {
     "name": "stderr",
     "output_type": "stream",
     "text": []
    },
    {
     "name": "stdout",
     "output_type": "stream",
     "text": [
      " > Processing time: 0.3326091766357422\n",
      " > Real-time factor: 0.04372574850244512\n",
      " > Text splitted to sentences.\n",
      "['A1-13-Was machst du hier']\n",
      " > Processing time: 0.12068700790405273\n",
      " > Real-time factor: 0.05527476994608597\n",
      " > Text splitted to sentences.\n",
      "['Hi, Lisa!', 'Wer ist denn das?']\n"
     ]
    },
    {
     "name": "stderr",
     "output_type": "stream",
     "text": []
    },
    {
     "name": "stdout",
     "output_type": "stream",
     "text": [
      " > Processing time: 0.17647314071655273\n",
      " > Real-time factor: 0.04084683356567002\n",
      " > Text splitted to sentences.\n",
      "['Das ist Nico.']\n",
      " > Processing time: 0.09752202033996582\n",
      " > Real-time factor: 0.037826494309320405\n",
      " > Text splitted to sentences.\n",
      "['Hallo, ich bin Nico.']\n",
      " > Processing time: 0.08700299263000488\n",
      " > Real-time factor: 0.0378355945781715\n",
      " > Text splitted to sentences.\n",
      "['Hallo, Nico.', 'Ich bin Sebastian.', 'Was machst du hier?']\n"
     ]
    },
    {
     "name": "stderr",
     "output_type": "stream",
     "text": []
    },
    {
     "name": "stdout",
     "output_type": "stream",
     "text": [
      " > Processing time: 0.28116607666015625\n",
      " > Real-time factor: 0.036627469458103586\n",
      " > Text splitted to sentences.\n",
      "['Ich habe ein Problem: Meine Tasche ist weg und mein Handy und mein Pass sind auch weg.', 'Und Yaras Adresse ist auch weg.']\n"
     ]
    },
    {
     "name": "stderr",
     "output_type": "stream",
     "text": []
    },
    {
     "name": "stdout",
     "output_type": "stream",
     "text": [
      " > Processing time: 0.35584592819213867\n",
      " > Real-time factor: 0.038939190867857\n",
      " > Text splitted to sentences.\n",
      "['Okay, das ist nicht so gut.', 'Und woher kommst du?']\n"
     ]
    },
    {
     "name": "stderr",
     "output_type": "stream",
     "text": []
    },
    {
     "name": "stdout",
     "output_type": "stream",
     "text": [
      " > Processing time: 0.21604299545288086\n",
      " > Real-time factor: 0.041525000433542736\n",
      " > Text splitted to sentences.\n",
      "['Ich komme aus Spanien.', 'Ich wohne in Sevilla.']\n"
     ]
    },
    {
     "name": "stderr",
     "output_type": "stream",
     "text": []
    },
    {
     "name": "stdout",
     "output_type": "stream",
     "text": [
      " > Processing time: 0.2241058349609375\n",
      " > Real-time factor: 0.03890726301405165\n",
      " > Text splitted to sentences.\n",
      "['Schön .', 'Und wer ist Yara?']\n",
      " > Processing time: 0.18217015266418457\n",
      " > Real-time factor: 0.03981180489063263\n"
     ]
    },
    {
     "name": "stderr",
     "output_type": "stream",
     "text": []
    },
    {
     "name": "stdout",
     "output_type": "stream",
     "text": [
      " > Text splitted to sentences.\n",
      "['Yara ist Nicos Tante.', 'Er hat gesagt, sie hat hier einen Fahrradladen.', 'Aber er hat die Adresse nicht.']\n"
     ]
    },
    {
     "name": "stderr",
     "output_type": "stream",
     "text": []
    },
    {
     "name": "stdout",
     "output_type": "stream",
     "text": [
      " > Processing time: 0.38593482971191406\n",
      " > Real-time factor: 0.03705095347939614\n",
      " > Text splitted to sentences.\n",
      "['Auch nicht so gut.', 'Und wie alt bist du?']\n",
      " > Processing time: 0.17544031143188477\n",
      " > Real-time factor: 0.04028301885905801\n"
     ]
    },
    {
     "name": "stderr",
     "output_type": "stream",
     "text": []
    },
    {
     "name": "stdout",
     "output_type": "stream",
     "text": [
      " > Text splitted to sentences.\n",
      "['Ich bin 22 Jahre alt.', 'Und du?', 'Kommst du aus Deutschland?']\n"
     ]
    },
    {
     "name": "stderr",
     "output_type": "stream",
     "text": []
    },
    {
     "name": "stdout",
     "output_type": "stream",
     "text": [
      " > Processing time: 0.23795104026794434\n",
      " > Real-time factor: 0.03658666488555849\n",
      " > Text splitted to sentences.\n",
      "['Ich bin 25 Jahre.', 'Und ja, ich komme aus Deutschland.']\n"
     ]
    },
    {
     "name": "stderr",
     "output_type": "stream",
     "text": []
    },
    {
     "name": "stdout",
     "output_type": "stream",
     "text": [
      " > Processing time: 0.21309709548950195\n",
      " > Real-time factor: 0.03729672780308228\n",
      " > Text splitted to sentences.\n",
      "['Und ich heiße Nina.', 'Ich komme auch aus Deutschland und bin 23 Jahre alt.']\n"
     ]
    },
    {
     "name": "stderr",
     "output_type": "stream",
     "text": []
    },
    {
     "name": "stdout",
     "output_type": "stream",
     "text": [
      " > Processing time: 0.277346134185791\n",
      " > Real-time factor: 0.037731257766514634\n",
      " > Text splitted to sentences.\n",
      "['Kann Nico zwei Tage hier wohnen?']\n",
      " > Processing time: 0.1202702522277832\n",
      " > Real-time factor: 0.037254987941428126\n",
      " > Text splitted to sentences.\n",
      "['Kein Problem!']\n"
     ]
    },
    {
     "name": "stderr",
     "output_type": "stream",
     "text": []
    },
    {
     "name": "stdout",
     "output_type": "stream",
     "text": [
      " > Processing time: 0.11401081085205078\n",
      " > Real-time factor: 0.05364327371303602\n",
      " > Text splitted to sentences.\n",
      "['Willkommen in der Wagnergasse!']\n",
      " > Processing time: 0.11820507049560547\n",
      " > Real-time factor: 0.035591296215153216\n",
      " > Text splitted to sentences.\n",
      "['Danke schön !']\n"
     ]
    },
    {
     "name": "stderr",
     "output_type": "stream",
     "text": []
    },
    {
     "name": "stdout",
     "output_type": "stream",
     "text": [
      " > Processing time: 0.18527698516845703\n",
      " > Real-time factor: 0.0357762148220933\n",
      " > Text splitted to sentences.\n",
      "['Herzlich willkommen!']\n",
      " > Processing time: 0.09867000579833984\n",
      " > Real-time factor: 0.040651599922522305\n",
      " > Text splitted to sentences.\n",
      "['Und es gibt eine Party ?']\n"
     ]
    },
    {
     "name": "stderr",
     "output_type": "stream",
     "text": []
    },
    {
     "name": "stdout",
     "output_type": "stream",
     "text": [
      " > Processing time: 0.12528395652770996\n",
      " > Real-time factor: 0.04040649487239651\n",
      " > Text splitted to sentences.\n",
      "['Ja, aber wir haben ein kleines Problem.']\n",
      " > Processing time: 0.14173007011413574\n",
      " > Real-time factor: 0.03334842972102498\n",
      " > Text splitted to sentences.\n",
      "['Die Lampe ist kaputt .']\n"
     ]
    },
    {
     "name": "stderr",
     "output_type": "stream",
     "text": []
    },
    {
     "name": "stdout",
     "output_type": "stream",
     "text": [
      " > Processing time: 0.12124300003051758\n",
      " > Real-time factor: 0.03866882883986509\n",
      " > Text splitted to sentences.\n",
      "['Klar.', 'Hat am Flughafen alles geklappt?', 'Geht’s Emma gut?']\n"
     ]
    },
    {
     "name": "stderr",
     "output_type": "stream",
     "text": []
    },
    {
     "name": "stdout",
     "output_type": "stream",
     "text": [
      " > Processing time: 0.2568068504333496\n",
      " > Real-time factor: 0.03805913977346596\n",
      " > Text splitted to sentences.\n",
      "['Ja.', 'Emmas Mutter sitzt im Flugzeug und Emma geht es gut, die ist bei Lotte.']\n"
     ]
    },
    {
     "name": "stderr",
     "output_type": "stream",
     "text": []
    },
    {
     "name": "stdout",
     "output_type": "stream",
     "text": [
      " > Processing time: 0.3353848457336426\n",
      " > Real-time factor: 0.04436573627631754\n",
      " > Text splitted to sentences.\n",
      "['Ey ...', 'Wow, die Lampe funktioniert wieder .']\n"
     ]
    },
    {
     "name": "stderr",
     "output_type": "stream",
     "text": []
    },
    {
     "name": "stdout",
     "output_type": "stream",
     "text": [
      " > Processing time: 0.19146394729614258\n",
      " > Real-time factor: 0.038075216791846535\n",
      " > Text splitted to sentences.\n",
      "['Super, Nico!', 'Danke!', 'Möchtest du etwas trinken?']\n"
     ]
    },
    {
     "name": "stderr",
     "output_type": "stream",
     "text": []
    },
    {
     "name": "stdout",
     "output_type": "stream",
     "text": [
      " > Processing time: 0.3084540367126465\n",
      " > Real-time factor: 0.03756855672510967\n",
      " > Text splitted to sentences.\n",
      "['Ja, trinken , ein Getränk !']\n",
      " > Processing time: 0.11882591247558594\n",
      " > Real-time factor: 0.04281227728899788\n",
      " > Text splitted to sentences.\n",
      "['A1-14-Was trinkst du']\n"
     ]
    },
    {
     "name": "stderr",
     "output_type": "stream",
     "text": []
    },
    {
     "name": "stdout",
     "output_type": "stream",
     "text": [
      " > Processing time: 0.10857605934143066\n",
      " > Real-time factor: 0.039283639217618564\n",
      " > Text splitted to sentences.\n",
      "['Das ist Yara.']\n",
      " > Processing time: 0.09423494338989258\n",
      " > Real-time factor: 0.0407747351206266\n",
      " > Text splitted to sentences.\n",
      "['Ja, sie ist hübsch.']\n"
     ]
    },
    {
     "name": "stderr",
     "output_type": "stream",
     "text": []
    },
    {
     "name": "stdout",
     "output_type": "stream",
     "text": [
      " > Processing time: 0.10420489311218262\n",
      " > Real-time factor: 0.03754441001835991\n",
      " > Text splitted to sentences.\n",
      "['Sie lebt in Deutschland.']\n",
      " > Processing time: 0.10632491111755371\n",
      " > Real-time factor: 0.03494610496872853\n",
      " > Text splitted to sentences.\n",
      "['Wohnt sie hier in der Stadt?']\n"
     ]
    },
    {
     "name": "stderr",
     "output_type": "stream",
     "text": []
    },
    {
     "name": "stdout",
     "output_type": "stream",
     "text": [
      " > Processing time: 0.12931084632873535\n",
      " > Real-time factor: 0.04471932499292055\n",
      " > Text splitted to sentences.\n",
      "['Aber wo ist das?', 'Kennt ihr Yaras Fahrradladen ?']\n"
     ]
    },
    {
     "name": "stderr",
     "output_type": "stream",
     "text": []
    },
    {
     "name": "stdout",
     "output_type": "stream",
     "text": [
      " > Processing time: 0.2141120433807373\n",
      " > Real-time factor: 0.0401678681982138\n",
      " > Text splitted to sentences.\n",
      "['So.', 'Was möchtet ihr trinken?']\n",
      " > Processing time: 0.16267800331115723\n",
      " > Real-time factor: 0.035642388444068134\n",
      " > Text splitted to sentences.\n",
      "['Was gibt es denn?']\n",
      " > Processing time: 0.08892488479614258\n",
      " > Real-time factor: 0.036118363353870905\n",
      " > Text splitted to sentences.\n",
      "['Wir haben … Apfelsaft , Wasser , Bier , Wein , Cola und Limonade .']\n",
      " > Processing time: 0.19452810287475586\n",
      " > Real-time factor: 0.03512171384439577\n"
     ]
    },
    {
     "name": "stderr",
     "output_type": "stream",
     "text": []
    },
    {
     "name": "stdout",
     "output_type": "stream",
     "text": [
      " > Text splitted to sentences.\n",
      "['Also, ich nehm ein Bier.']\n",
      " > Processing time: 0.10650110244750977\n",
      " > Real-time factor: 0.03554658072426117\n",
      " > Text splitted to sentences.\n",
      "['Wir haben auch Kaffee und Tee im Angebot …']\n"
     ]
    },
    {
     "name": "stderr",
     "output_type": "stream",
     "text": []
    },
    {
     "name": "stdout",
     "output_type": "stream",
     "text": [
      " > Processing time: 0.13882184028625488\n",
      " > Real-time factor: 0.03843959185141552\n",
      " > Text splitted to sentences.\n",
      "['Bier, danke.']\n",
      " > Processing time: 0.07955503463745117\n",
      " > Real-time factor: 0.03682794158875963\n",
      " > Text splitted to sentences.\n",
      "['Alles klar.']\n",
      " > Processing time: 0.09127521514892578\n",
      " > Real-time factor: 0.03638665197486646\n",
      " > Text splitted to sentences.\n",
      "['Für mich bitte einen Kaffee.']\n"
     ]
    },
    {
     "name": "stderr",
     "output_type": "stream",
     "text": []
    },
    {
     "name": "stdout",
     "output_type": "stream",
     "text": [
      " > Processing time: 0.10582709312438965\n",
      " > Real-time factor: 0.03674551844596863\n",
      " > Text splitted to sentences.\n",
      "['Mit Milch und Zucker ?']\n",
      " > Processing time: 0.0815129280090332\n",
      " > Real-time factor: 0.036940152552597465\n",
      " > Text splitted to sentences.\n",
      "['Ja, mit viel Milch, aber wenig Zucker.', 'Ah warte, ich mach das.']\n"
     ]
    },
    {
     "name": "stderr",
     "output_type": "stream",
     "text": []
    },
    {
     "name": "stdout",
     "output_type": "stream",
     "text": [
      " > Processing time: 0.23015999794006348\n",
      " > Real-time factor: 0.03382269643433035\n",
      " > Text splitted to sentences.\n",
      "['Was ist mit dir, Nico?', 'Hast du auch Durst?', 'Was möchtest du trinken?']\n"
     ]
    },
    {
     "name": "stderr",
     "output_type": "stream",
     "text": []
    },
    {
     "name": "stdout",
     "output_type": "stream",
     "text": [
      " > Processing time: 0.297868013381958\n",
      " > Real-time factor: 0.03695861672296848\n",
      " > Text splitted to sentences.\n",
      "['Cola bitte.']\n",
      " > Processing time: 0.08934593200683594\n",
      " > Real-time factor: 0.03789777240594669\n",
      " > Text splitted to sentences.\n",
      "['Alles klar.', 'Dann nehme ich Limonade.']\n"
     ]
    },
    {
     "name": "stderr",
     "output_type": "stream",
     "text": []
    },
    {
     "name": "stdout",
     "output_type": "stream",
     "text": [
      " > Processing time: 0.1860039234161377\n",
      " > Real-time factor: 0.0343706968299631\n",
      " > Text splitted to sentences.\n",
      "['Also, Freunde, ich hab ’ne Idee!', 'Wir … wir posten das Foto von Yara bei Book und fragen : Wer kennt diesen Fahrradladen?', 'Und so finden wir die Adresse raus.']\n"
     ]
    },
    {
     "name": "stderr",
     "output_type": "stream",
     "text": []
    },
    {
     "name": "stdout",
     "output_type": "stream",
     "text": [
      " > Processing time: 0.4691886901855469\n",
      " > Real-time factor: 0.03504420701652793\n",
      " > Text splitted to sentences.\n",
      "['Ja, vielleicht.']\n",
      " > Processing time: 0.08729124069213867\n",
      " > Real-time factor: 0.04084829917787898\n",
      " > Text splitted to sentences.\n",
      "['Habt ihr Hunger?']\n"
     ]
    },
    {
     "name": "stderr",
     "output_type": "stream",
     "text": []
    },
    {
     "name": "stdout",
     "output_type": "stream",
     "text": [
      " > Processing time: 0.09070706367492676\n",
      " > Real-time factor: 0.04820889785075528\n",
      " > Text splitted to sentences.\n",
      "['Hunger?', 'Hungry?']\n",
      " > Processing time: 0.17214488983154297\n",
      " > Real-time factor: 0.05635087323018888\n",
      " > Text splitted to sentences.\n",
      "['Hier sind die Speisekarten !']\n"
     ]
    },
    {
     "name": "stderr",
     "output_type": "stream",
     "text": []
    },
    {
     "name": "stdout",
     "output_type": "stream",
     "text": [
      " > Processing time: 0.13875484466552734\n",
      " > Real-time factor: 0.04631182375991278\n",
      " > Text splitted to sentences.\n",
      "['So, also dann prost!']\n",
      " > Processing time: 0.14232182502746582\n",
      " > Real-time factor: 0.050022255831669554\n",
      " > Text splitted to sentences.\n",
      "['Wo ist denn Nawin?', 'Ist er nicht hier?']\n"
     ]
    },
    {
     "name": "stderr",
     "output_type": "stream",
     "text": [
      "100%|██████████| 185/185 [00:37<00:00,  4.92it/s]"
     ]
    },
    {
     "name": "stdout",
     "output_type": "stream",
     "text": [
      " > Processing time: 0.3683052062988281\n",
      " > Real-time factor: 0.0832355874763156\n"
     ]
    },
    {
     "name": "stderr",
     "output_type": "stream",
     "text": [
      "\n"
     ]
    }
   ],
   "source": [
    "tts_german = TextToSpeech('de',dir_path)\n",
    "tts_german.text_to_speech(text_de)"
   ]
  },
  {
   "cell_type": "code",
   "execution_count": 36,
   "metadata": {},
   "outputs": [
    {
     "name": "stdout",
     "output_type": "stream",
     "text": [
      " > tts_models/en/jenny/jenny is already downloaded.\n",
      " > Using model: vits\n",
      " > Setting up Audio Processor...\n",
      " | > sample_rate:48000\n",
      " | > resample:False\n",
      " | > num_mels:100\n",
      " | > log_func:np.log10\n",
      " | > min_level_db:0\n",
      " | > frame_shift_ms:None\n",
      " | > frame_length_ms:None\n",
      " | > ref_level_db:None\n",
      " | > fft_size:2048\n",
      " | > power:None\n",
      " | > preemphasis:0.0\n",
      " | > griffin_lim_iters:None\n",
      " | > signal_norm:None\n",
      " | > symmetric_norm:None\n",
      " | > mel_fmin:0\n",
      " | > mel_fmax:None\n",
      " | > pitch_fmin:None\n",
      " | > pitch_fmax:None\n",
      " | > spec_gain:20.0\n",
      " | > stft_pad_mode:reflect\n",
      " | > max_norm:1.0\n",
      " | > clip_norm:True\n",
      " | > do_trim_silence:False\n",
      " | > trim_db:60\n",
      " | > do_sound_norm:False\n",
      " | > do_amp_to_db_linear:True\n",
      " | > do_amp_to_db_mel:True\n",
      " | > do_rms_norm:False\n",
      " | > db_level:None\n",
      " | > stats_path:None\n",
      " | > base:10\n",
      " | > hop_length:512\n",
      " | > win_length:2048\n"
     ]
    },
    {
     "name": "stderr",
     "output_type": "stream",
     "text": []
    },
    {
     "name": "stdout",
     "output_type": "stream",
     "text": [
      " > Text splitted to sentences.\n",
      "['A1-07-Where do you come from']\n"
     ]
    },
    {
     "name": "stderr",
     "output_type": "stream",
     "text": []
    },
    {
     "name": "stdout",
     "output_type": "stream",
     "text": [
      " > Processing time: 1.8218820095062256\n",
      " > Real-time factor: 0.8646805930262105\n",
      " > Text splitted to sentences.\n",
      "['Hello, Lisa!']\n"
     ]
    },
    {
     "name": "stderr",
     "output_type": "stream",
     "text": []
    },
    {
     "name": "stdout",
     "output_type": "stream",
     "text": [
      " > Processing time: 1.332817792892456\n",
      " > Real-time factor: 0.7931865460577997\n",
      " > Text splitted to sentences.\n",
      "['Hello, Max, how are you?']\n"
     ]
    },
    {
     "name": "stderr",
     "output_type": "stream",
     "text": []
    },
    {
     "name": "stdout",
     "output_type": "stream",
     "text": [
      " > Processing time: 1.9885292053222656\n",
      " > Real-time factor: 0.8086739346572858\n",
      " > Text splitted to sentences.\n",
      "['Great.', 'And you?']\n"
     ]
    },
    {
     "name": "stderr",
     "output_type": "stream",
     "text": []
    },
    {
     "name": "stdout",
     "output_type": "stream",
     "text": [
      " > Processing time: 1.1812143325805664\n",
      " > Real-time factor: 0.6398777532939146\n",
      " > Text splitted to sentences.\n",
      "['Also good thanks.']\n"
     ]
    },
    {
     "name": "stderr",
     "output_type": "stream",
     "text": []
    },
    {
     "name": "stdout",
     "output_type": "stream",
     "text": [
      " > Processing time: 1.1710662841796875\n",
      " > Real-time factor: 0.7391539769701373\n",
      " > Text splitted to sentences.\n",
      "['Hello, Max.']\n"
     ]
    },
    {
     "name": "stderr",
     "output_type": "stream",
     "text": []
    },
    {
     "name": "stdout",
     "output_type": "stream",
     "text": [
      " > Processing time: 1.0427660942077637\n",
      " > Real-time factor: 0.7056842505353691\n",
      " > Text splitted to sentences.\n",
      "['And you?', 'Who are you?']\n"
     ]
    },
    {
     "name": "stderr",
     "output_type": "stream",
     "text": []
    },
    {
     "name": "stdout",
     "output_type": "stream",
     "text": [
      " > Processing time: 1.752800703048706\n",
      " > Real-time factor: 0.7081069363245514\n",
      " > Text splitted to sentences.\n",
      "['I am Nico.']\n"
     ]
    },
    {
     "name": "stderr",
     "output_type": "stream",
     "text": []
    },
    {
     "name": "stdout",
     "output_type": "stream",
     "text": [
      " > Processing time: 1.0117950439453125\n",
      " > Real-time factor: 0.7266902398458074\n",
      " > Text splitted to sentences.\n",
      "['Hello, Nico.', \"You're not from Germany, are you?\"]\n"
     ]
    },
    {
     "name": "stderr",
     "output_type": "stream",
     "text": []
    },
    {
     "name": "stdout",
     "output_type": "stream",
     "text": [
      " > Processing time: 3.185817003250122\n",
      " > Real-time factor: 0.7776607819162218\n",
      " > Text splitted to sentences.\n",
      "['Excuse ?']\n"
     ]
    },
    {
     "name": "stderr",
     "output_type": "stream",
     "text": []
    },
    {
     "name": "stdout",
     "output_type": "stream",
     "text": [
      " > Processing time: 0.8919212818145752\n",
      " > Real-time factor: 0.7430613289207791\n",
      " > Text splitted to sentences.\n",
      "['Where are you from?', \"I'm Max and I come from Germany.\"]\n"
     ]
    },
    {
     "name": "stderr",
     "output_type": "stream",
     "text": []
    },
    {
     "name": "stdout",
     "output_type": "stream",
     "text": [
      " > Processing time: 3.158634901046753\n",
      " > Real-time factor: 0.781195771075042\n",
      " > Text splitted to sentences.\n",
      "[\"And I'm Emma and I also come from Germany.\"]\n"
     ]
    },
    {
     "name": "stderr",
     "output_type": "stream",
     "text": []
    },
    {
     "name": "stdout",
     "output_type": "stream",
     "text": [
      " > Processing time: 1.9982216358184814\n",
      " > Real-time factor: 0.7418221640212157\n",
      " > Text splitted to sentences.\n",
      "[\"I'm Nico.\", 'I come from...', 'Spain?']\n"
     ]
    },
    {
     "name": "stderr",
     "output_type": "stream",
     "text": []
    },
    {
     "name": "stdout",
     "output_type": "stream",
     "text": [
      " > Processing time: 2.0506160259246826\n",
      " > Real-time factor: 0.6209597332970676\n",
      " > Text splitted to sentences.\n",
      "['Spain, yes!', 'I come from Spain.']\n"
     ]
    },
    {
     "name": "stderr",
     "output_type": "stream",
     "text": []
    },
    {
     "name": "stdout",
     "output_type": "stream",
     "text": [
      " > Processing time: 1.8978359699249268\n",
      " > Real-time factor: 0.6662190392902856\n",
      " > Text splitted to sentences.\n",
      "['And where exactly are you from?']\n"
     ]
    },
    {
     "name": "stderr",
     "output_type": "stream",
     "text": []
    },
    {
     "name": "stdout",
     "output_type": "stream",
     "text": [
      " > Processing time: 1.694075345993042\n",
      " > Real-time factor: 0.7727270849899841\n",
      " > Text splitted to sentences.\n",
      "['Where do you live in Spain?', 'Do you live in Barcelona or Madrid?']\n"
     ]
    },
    {
     "name": "stderr",
     "output_type": "stream",
     "text": []
    },
    {
     "name": "stdout",
     "output_type": "stream",
     "text": [
      " > Processing time: 3.473115921020508\n",
      " > Real-time factor: 0.795977674794616\n",
      " > Text splitted to sentences.\n",
      "['Do you live in Seville?']\n"
     ]
    },
    {
     "name": "stderr",
     "output_type": "stream",
     "text": []
    },
    {
     "name": "stdout",
     "output_type": "stream",
     "text": [
      " > Processing time: 1.500331163406372\n",
      " > Real-time factor: 0.8601172348975953\n",
      " > Text splitted to sentences.\n",
      "['I live in Seville.']\n"
     ]
    },
    {
     "name": "stderr",
     "output_type": "stream",
     "text": []
    },
    {
     "name": "stdout",
     "output_type": "stream",
     "text": [
      " > Processing time: 1.0964159965515137\n",
      " > Real-time factor: 0.7640529592693475\n",
      " > Text splitted to sentences.\n",
      "['Nico was also at the airport.', 'He has a problem: his bag is missing.']\n"
     ]
    },
    {
     "name": "stderr",
     "output_type": "stream",
     "text": []
    },
    {
     "name": "stdout",
     "output_type": "stream",
     "text": [
      " > Processing time: 4.764208078384399\n",
      " > Real-time factor: 0.9645447587497098\n",
      " > Text splitted to sentences.\n",
      "['Oh.', 'And what are you doing now?']\n"
     ]
    },
    {
     "name": "stderr",
     "output_type": "stream",
     "text": []
    },
    {
     "name": "stdout",
     "output_type": "stream",
     "text": [
      " > Processing time: 1.8031799793243408\n",
      " > Real-time factor: 0.6870129461484661\n",
      " > Text splitted to sentences.\n",
      "[\"I'm looking for my aunt.\"]\n"
     ]
    },
    {
     "name": "stderr",
     "output_type": "stream",
     "text": []
    },
    {
     "name": "stdout",
     "output_type": "stream",
     "text": [
      " > Processing time: 1.3778398036956787\n",
      " > Real-time factor: 0.7803510309773525\n",
      " > Text splitted to sentences.\n",
      "[\"Nico's aunt lives here in Germany.\", \"But he doesn't have the address.\"]\n"
     ]
    },
    {
     "name": "stderr",
     "output_type": "stream",
     "text": []
    },
    {
     "name": "stdout",
     "output_type": "stream",
     "text": [
      " > Processing time: 3.5732338428497314\n",
      " > Real-time factor: 0.8090340776263543\n",
      " > Text splitted to sentences.\n",
      "['Can you call your aunt?']\n"
     ]
    },
    {
     "name": "stderr",
     "output_type": "stream",
     "text": []
    },
    {
     "name": "stdout",
     "output_type": "stream",
     "text": [
      " > Processing time: 1.0801448822021484\n",
      " > Real-time factor: 0.7006345181851773\n",
      " > Text splitted to sentences.\n",
      "['My bag is gone.', 'My phone is gone.', 'And the number is gone.']\n"
     ]
    },
    {
     "name": "stderr",
     "output_type": "stream",
     "text": []
    },
    {
     "name": "stdout",
     "output_type": "stream",
     "text": [
      " > Processing time: 3.5132389068603516\n",
      " > Real-time factor: 0.7135411766692205\n",
      " > Text splitted to sentences.\n",
      "['And your family?', 'Can you call your family?']\n"
     ]
    },
    {
     "name": "stderr",
     "output_type": "stream",
     "text": []
    },
    {
     "name": "stdout",
     "output_type": "stream",
     "text": [
      " > Processing time: 2.221919298171997\n",
      " > Real-time factor: 0.7281798005807287\n",
      " > Text splitted to sentences.\n",
      "[\"Can't your father help?\", \"He's with the police.\"]\n"
     ]
    },
    {
     "name": "stderr",
     "output_type": "stream",
     "text": []
    },
    {
     "name": "stdout",
     "output_type": "stream",
     "text": [
      " > Processing time: 2.0047638416290283\n",
      " > Real-time factor: 0.7117504763179981\n",
      " > Text splitted to sentences.\n",
      "['My father is a policeman.', 'Police.', 'Maybe he can help us.', 'Wait a minute!']\n"
     ]
    },
    {
     "name": "stderr",
     "output_type": "stream",
     "text": []
    },
    {
     "name": "stdout",
     "output_type": "stream",
     "text": [
      " > Processing time: 4.885678768157959\n",
      " > Real-time factor: 0.8575378132736882\n",
      " > Text splitted to sentences.\n",
      "['A1-08-Nico has a problem']\n"
     ]
    },
    {
     "name": "stderr",
     "output_type": "stream",
     "text": []
    },
    {
     "name": "stdout",
     "output_type": "stream",
     "text": [
      " > Processing time: 1.5429692268371582\n",
      " > Real-time factor: 0.8102411483478863\n",
      " > Text splitted to sentences.\n",
      "['Police station East, Brunner here.', 'Ah, hello, Lisa.', 'How are you?', \"What's wrong?\", 'Is Emma not feeling well?']\n"
     ]
    },
    {
     "name": "stderr",
     "output_type": "stream",
     "text": []
    },
    {
     "name": "stdout",
     "output_type": "stream",
     "text": [
      " > Processing time: 6.606017112731934\n",
      " > Real-time factor: 0.7482745455237229\n",
      " > Text splitted to sentences.\n",
      "[\"But don't worry!\", 'Emma is fine.', 'But Nico has a problem.', 'He was at the airport too.', \"He's from Spain.\", 'Yes, exactly.', \"He's from Spain and he has a problem.\", \"His bag is missing and he doesn't speak German very well.\"]\n"
     ]
    },
    {
     "name": "stderr",
     "output_type": "stream",
     "text": []
    },
    {
     "name": "stdout",
     "output_type": "stream",
     "text": [
      " > Processing time: 11.434821128845215\n",
      " > Real-time factor: 0.7495294394890676\n",
      " > Text splitted to sentences.\n",
      "['Does he have papers?', 'An ID card or a passport?']\n"
     ]
    },
    {
     "name": "stderr",
     "output_type": "stream",
     "text": []
    },
    {
     "name": "stdout",
     "output_type": "stream",
     "text": [
      " > Processing time: 2.813277006149292\n",
      " > Real-time factor: 0.7224645624420369\n",
      " > Text splitted to sentences.\n",
      "['Do you have a passport?', 'Passport?']\n"
     ]
    },
    {
     "name": "stderr",
     "output_type": "stream",
     "text": []
    },
    {
     "name": "stdout",
     "output_type": "stream",
     "text": [
      " > Processing time: 1.8730921745300293\n",
      " > Real-time factor: 0.6700782880503324\n",
      " > Text splitted to sentences.\n",
      "['No.', \"Nico's passport is in his pocket.\", 'But he has a photo of his aunt.', \"She also lives here in Germany, but Nico doesn't have the address.\"]\n"
     ]
    },
    {
     "name": "stderr",
     "output_type": "stream",
     "text": []
    },
    {
     "name": "stdout",
     "output_type": "stream",
     "text": [
      " > Processing time: 7.540880918502808\n",
      " > Real-time factor: 0.7568126172724616\n",
      " > Text splitted to sentences.\n",
      "['My aunt… She has a bicycle shop.']\n"
     ]
    },
    {
     "name": "stderr",
     "output_type": "stream",
     "text": []
    },
    {
     "name": "stdout",
     "output_type": "stream",
     "text": [
      " > Processing time: 1.7485392093658447\n",
      " > Real-time factor: 0.7300790018228996\n",
      " > Text splitted to sentences.\n",
      "['His aunt has a business, a bicycle shop.']\n"
     ]
    },
    {
     "name": "stderr",
     "output_type": "stream",
     "text": []
    },
    {
     "name": "stdout",
     "output_type": "stream",
     "text": [
      " > Processing time: 2.0503361225128174\n",
      " > Real-time factor: 0.7211875211089755\n",
      " > Text splitted to sentences.\n",
      "[\"So we're looking for an address.\", 'The woman has a bike shop.', 'Right?', 'Okay.', 'Then come to the police with Nico.']\n"
     ]
    },
    {
     "name": "stderr",
     "output_type": "stream",
     "text": []
    },
    {
     "name": "stdout",
     "output_type": "stream",
     "text": [
      " > Processing time: 5.478377103805542\n",
      " > Real-time factor: 0.7077701783479018\n",
      " > Text splitted to sentences.\n",
      "['Thanks, Dad!']\n"
     ]
    },
    {
     "name": "stderr",
     "output_type": "stream",
     "text": []
    },
    {
     "name": "stdout",
     "output_type": "stream",
     "text": [
      " > Processing time: 1.1206231117248535\n",
      " > Real-time factor: 0.6711657686513397\n",
      " > Text splitted to sentences.\n",
      "['With pleasure.', 'See you later.']\n"
     ]
    },
    {
     "name": "stderr",
     "output_type": "stream",
     "text": []
    },
    {
     "name": "stdout",
     "output_type": "stream",
     "text": [
      " > Processing time: 1.3269281387329102\n",
      " > Real-time factor: 0.6096147651146601\n",
      " > Text splitted to sentences.\n",
      "['See you later!']\n"
     ]
    },
    {
     "name": "stderr",
     "output_type": "stream",
     "text": []
    },
    {
     "name": "stdout",
     "output_type": "stream",
     "text": [
      " > Processing time: 0.6535720825195312\n",
      " > Real-time factor: 0.5861633027080998\n",
      " > Text splitted to sentences.\n",
      "['Maybe my father can help us.', 'He helps.']\n"
     ]
    },
    {
     "name": "stderr",
     "output_type": "stream",
     "text": []
    },
    {
     "name": "stdout",
     "output_type": "stream",
     "text": [
      " > Processing time: 2.481914758682251\n",
      " > Real-time factor: 0.78326785988289\n",
      " > Text splitted to sentences.\n",
      "['Bye, Lisa.', 'Bye, Emma.']\n"
     ]
    },
    {
     "name": "stderr",
     "output_type": "stream",
     "text": []
    },
    {
     "name": "stdout",
     "output_type": "stream",
     "text": [
      " > Processing time: 2.506157875061035\n",
      " > Real-time factor: 0.7651611668209959\n",
      " > Text splitted to sentences.\n",
      "['Bye, Max!']\n"
     ]
    },
    {
     "name": "stderr",
     "output_type": "stream",
     "text": []
    },
    {
     "name": "stdout",
     "output_type": "stream",
     "text": [
      " > Processing time: 1.1196727752685547\n",
      " > Real-time factor: 0.7522997370225452\n",
      " > Text splitted to sentences.\n",
      "['Ciao, Nico.', 'Good luck!']\n"
     ]
    },
    {
     "name": "stderr",
     "output_type": "stream",
     "text": []
    },
    {
     "name": "stdout",
     "output_type": "stream",
     "text": [
      " > Processing time: 1.9777319431304932\n",
      " > Real-time factor: 0.7474421553781153\n",
      " > Text splitted to sentences.\n",
      "['A1-09 numbers from 1 to 100']\n"
     ]
    },
    {
     "name": "stderr",
     "output_type": "stream",
     "text": []
    },
    {
     "name": "stdout",
     "output_type": "stream",
     "text": [
      " > Processing time: 2.490015983581543\n",
      " > Real-time factor: 0.8034901528175356\n",
      " > Text splitted to sentences.\n",
      "[\"What's the house number, Emma?\", '38 or 83?']\n"
     ]
    },
    {
     "name": "stderr",
     "output_type": "stream",
     "text": []
    },
    {
     "name": "stdout",
     "output_type": "stream",
     "text": [
      " > Processing time: 3.2253942489624023\n",
      " > Real-time factor: 0.757727701400721\n",
      " > Text splitted to sentences.\n",
      "['Wait... eleven.']\n"
     ]
    },
    {
     "name": "stderr",
     "output_type": "stream",
     "text": []
    },
    {
     "name": "stdout",
     "output_type": "stream",
     "text": [
      " > Processing time: 1.7538108825683594\n",
      " > Real-time factor: 1.0639904242072957\n",
      " > Text splitted to sentences.\n",
      "['Ah, yes.', \"Then we're in the right place.\"]\n"
     ]
    },
    {
     "name": "stderr",
     "output_type": "stream",
     "text": []
    },
    {
     "name": "stdout",
     "output_type": "stream",
     "text": [
      " > Processing time: 2.1194417476654053\n",
      " > Real-time factor: 0.7640381210041115\n",
      " > Text splitted to sentences.\n",
      "['How many numbers are there?']\n"
     ]
    },
    {
     "name": "stderr",
     "output_type": "stream",
     "text": []
    },
    {
     "name": "stdout",
     "output_type": "stream",
     "text": [
      " > Processing time: 1.547482967376709\n",
      " > Real-time factor: 0.8457731648989117\n",
      " > Text splitted to sentences.\n",
      "[\"That's 31 numbers.\"]\n"
     ]
    },
    {
     "name": "stderr",
     "output_type": "stream",
     "text": []
    },
    {
     "name": "stdout",
     "output_type": "stream",
     "text": [
      " > Processing time: 1.565147876739502\n",
      " > Real-time factor: 0.88111158382783\n",
      " > Text splitted to sentences.\n",
      "['One two three four five …']\n"
     ]
    },
    {
     "name": "stderr",
     "output_type": "stream",
     "text": []
    },
    {
     "name": "stdout",
     "output_type": "stream",
     "text": [
      " > Processing time: 1.744048833847046\n",
      " > Real-time factor: 0.8319520593959513\n",
      " > Text splitted to sentences.\n",
      "['One two three four five.']\n"
     ]
    },
    {
     "name": "stderr",
     "output_type": "stream",
     "text": []
    },
    {
     "name": "stdout",
     "output_type": "stream",
     "text": [
      " > Processing time: 1.5682199001312256\n",
      " > Real-time factor: 0.8189137859693084\n",
      " > Text splitted to sentences.\n",
      "['... six, seven, eight, nine, ten, eleven, twelve.']\n"
     ]
    },
    {
     "name": "stderr",
     "output_type": "stream",
     "text": []
    },
    {
     "name": "stdout",
     "output_type": "stream",
     "text": [
      " > Processing time: 3.121424913406372\n",
      " > Real-time factor: 0.8721500177162257\n",
      " > Text splitted to sentences.\n",
      "['Six, seven, eight, nine, ten, eleven, twelve.']\n"
     ]
    },
    {
     "name": "stderr",
     "output_type": "stream",
     "text": []
    },
    {
     "name": "stdout",
     "output_type": "stream",
     "text": [
      " > Processing time: 2.9464571475982666\n",
      " > Real-time factor: 0.7813463663745072\n",
      " > Text splitted to sentences.\n",
      "['What is that?']\n"
     ]
    },
    {
     "name": "stderr",
     "output_type": "stream",
     "text": []
    },
    {
     "name": "stdout",
     "output_type": "stream",
     "text": [
      " > Processing time: 0.9089488983154297\n",
      " > Real-time factor: 0.6842777151684539\n",
      " > Text splitted to sentences.\n",
      "[\"An invitation to Charlotte's birthday.\"]\n"
     ]
    },
    {
     "name": "stderr",
     "output_type": "stream",
     "text": []
    },
    {
     "name": "stdout",
     "output_type": "stream",
     "text": [
      " > Processing time: 3.5469160079956055\n",
      " > Real-time factor: 1.3940453326328857\n",
      " > Text splitted to sentences.\n",
      "['Birthday?']\n"
     ]
    },
    {
     "name": "stderr",
     "output_type": "stream",
     "text": []
    },
    {
     "name": "stdout",
     "output_type": "stream",
     "text": [
      " > Processing time: 1.0613269805908203\n",
      " > Real-time factor: 0.7989914533933402\n",
      " > Text splitted to sentences.\n",
      "['Happy Birthday to you …']\n"
     ]
    },
    {
     "name": "stderr",
     "output_type": "stream",
     "text": []
    },
    {
     "name": "stdout",
     "output_type": "stream",
     "text": [
      " > Processing time: 1.6850998401641846\n",
      " > Real-time factor: 0.8162925109789365\n",
      " > Text splitted to sentences.\n",
      "['Ah, birthday!']\n"
     ]
    },
    {
     "name": "stderr",
     "output_type": "stream",
     "text": []
    },
    {
     "name": "stdout",
     "output_type": "stream",
     "text": [
      " > Processing time: 0.9739828109741211\n",
      " > Real-time factor: 0.6889762869423163\n",
      " > Text splitted to sentences.\n",
      "['Yes, and this is a gift.']\n"
     ]
    },
    {
     "name": "stderr",
     "output_type": "stream",
     "text": []
    },
    {
     "name": "stdout",
     "output_type": "stream",
     "text": [
      " > Processing time: 1.7828068733215332\n",
      " > Real-time factor: 0.8211915584161831\n",
      " > Text splitted to sentences.\n",
      "['Bye, Nico!', 'See you tomorrow!']\n"
     ]
    },
    {
     "name": "stderr",
     "output_type": "stream",
     "text": []
    },
    {
     "name": "stdout",
     "output_type": "stream",
     "text": [
      " > Processing time: 2.227825880050659\n",
      " > Real-time factor: 0.7676863818231079\n",
      " > Text splitted to sentences.\n",
      "['Bye, Emma!']\n"
     ]
    },
    {
     "name": "stderr",
     "output_type": "stream",
     "text": []
    },
    {
     "name": "stdout",
     "output_type": "stream",
     "text": [
      " > Processing time: 1.2288591861724854\n",
      " > Real-time factor: 0.7756317186024524\n",
      " > Text splitted to sentences.\n",
      "['A1-10-Important numbers']\n"
     ]
    },
    {
     "name": "stderr",
     "output_type": "stream",
     "text": []
    },
    {
     "name": "stdout",
     "output_type": "stream",
     "text": [
      " > Processing time: 1.6961679458618164\n",
      " > Real-time factor: 0.8216540994002017\n",
      " > Text splitted to sentences.\n",
      "['MOTHER OF LOTTE:']\n"
     ]
    },
    {
     "name": "stderr",
     "output_type": "stream",
     "text": []
    },
    {
     "name": "stdout",
     "output_type": "stream",
     "text": [
      " > Processing time: 0.9746510982513428\n",
      " > Real-time factor: 0.7000127590984027\n",
      " > Text splitted to sentences.\n",
      "['Lisa!', 'Hello!', 'And Emma!']\n"
     ]
    },
    {
     "name": "stderr",
     "output_type": "stream",
     "text": []
    },
    {
     "name": "stdout",
     "output_type": "stream",
     "text": [
      " > Processing time: 1.6379590034484863\n",
      " > Real-time factor: 0.5870119472399306\n",
      " > Text splitted to sentences.\n",
      "['Lotte!', 'Bye, Lisa.']\n"
     ]
    },
    {
     "name": "stderr",
     "output_type": "stream",
     "text": []
    },
    {
     "name": "stdout",
     "output_type": "stream",
     "text": [
      " > Processing time: 1.9106178283691406\n",
      " > Real-time factor: 0.6914177907246589\n",
      " > Text splitted to sentences.\n",
      "['Bye, my sweetheart.', 'Have fun, OK!', 'Congratulations, Lotte!', 'How old is Lotte now?']\n"
     ]
    },
    {
     "name": "stderr",
     "output_type": "stream",
     "text": []
    },
    {
     "name": "stdout",
     "output_type": "stream",
     "text": [
      " > Processing time: 5.504403829574585\n",
      " > Real-time factor: 0.771212940814672\n",
      " > Text splitted to sentences.\n",
      "['MOTHER OF LOTTE:']\n"
     ]
    },
    {
     "name": "stderr",
     "output_type": "stream",
     "text": []
    },
    {
     "name": "stdout",
     "output_type": "stream",
     "text": [
      " > Processing time: 0.9944829940795898\n",
      " > Real-time factor: 0.7034777133314712\n",
      " > Text splitted to sentences.\n",
      "['She is eight.']\n"
     ]
    },
    {
     "name": "stderr",
     "output_type": "stream",
     "text": []
    },
    {
     "name": "stdout",
     "output_type": "stream",
     "text": [
      " > Processing time: 1.0833079814910889\n",
      " > Real-time factor: 0.8288507892051178\n",
      " > Text splitted to sentences.\n",
      "['Ah, Emma is also eight years old.', \"I have Emma's sleeping bag and her sleeping mat here.\"]\n"
     ]
    },
    {
     "name": "stderr",
     "output_type": "stream",
     "text": []
    },
    {
     "name": "stdout",
     "output_type": "stream",
     "text": [
      " > Processing time: 4.7146079540252686\n",
      " > Real-time factor: 0.8417940639254735\n",
      " > Text splitted to sentences.\n",
      "['MOTHER OF LOTTE:']\n"
     ]
    },
    {
     "name": "stderr",
     "output_type": "stream",
     "text": []
    },
    {
     "name": "stdout",
     "output_type": "stream",
     "text": [
      " > Processing time: 1.0685229301452637\n",
      " > Real-time factor: 0.7615986672453768\n",
      " > Text splitted to sentences.\n",
      "['Great, thanks!']\n"
     ]
    },
    {
     "name": "stderr",
     "output_type": "stream",
     "text": []
    },
    {
     "name": "stdout",
     "output_type": "stream",
     "text": [
      " > Processing time: 1.2034389972686768\n",
      " > Real-time factor: 0.7806090793094119\n",
      " > Text splitted to sentences.\n",
      "['Where did you meet the woman of your dreams?']\n"
     ]
    },
    {
     "name": "stderr",
     "output_type": "stream",
     "text": []
    },
    {
     "name": "stdout",
     "output_type": "stream",
     "text": [
      " > Processing time: 1.8254950046539307\n",
      " > Real-time factor: 0.7622108578930817\n",
      " > Text splitted to sentences.\n",
      "['In the lost property office.']\n"
     ]
    },
    {
     "name": "stderr",
     "output_type": "stream",
     "text": []
    },
    {
     "name": "stdout",
     "output_type": "stream",
     "text": [
      " > Processing time: 1.5399169921875\n",
      " > Real-time factor: 0.7199237925140253\n",
      " > Text splitted to sentences.\n",
      "['In the lost and found office?', 'Did someone hand it in?']\n"
     ]
    },
    {
     "name": "stderr",
     "output_type": "stream",
     "text": []
    },
    {
     "name": "stdout",
     "output_type": "stream",
     "text": [
      " > Processing time: 2.7364490032196045\n",
      " > Real-time factor: 0.734946016979303\n",
      " > Text splitted to sentences.\n",
      "['No, not at all.', 'No, she works there.', 'I lost my bag and a man dropped it off.', 'That man was our cupid.']\n"
     ]
    },
    {
     "name": "stderr",
     "output_type": "stream",
     "text": []
    },
    {
     "name": "stdout",
     "output_type": "stream",
     "text": [
      " > Processing time: 7.480810880661011\n",
      " > Real-time factor: 0.8887388183899506\n",
      " > Text splitted to sentences.\n",
      "['And you want to look for the person who found the bag?']\n"
     ]
    },
    {
     "name": "stderr",
     "output_type": "stream",
     "text": []
    },
    {
     "name": "stdout",
     "output_type": "stream",
     "text": [
      " > Processing time: 2.2959301471710205\n",
      " > Real-time factor: 0.8106143864320421\n",
      " > Text splitted to sentences.\n",
      "['Lost your bag?']\n"
     ]
    },
    {
     "name": "stderr",
     "output_type": "stream",
     "text": []
    },
    {
     "name": "stdout",
     "output_type": "stream",
     "text": [
      " > Processing time: 1.0139708518981934\n",
      " > Real-time factor: 0.7338751642206466\n",
      " > Text splitted to sentences.\n",
      "['Exactly.', 'He changed my life and I would like to say thank you.']\n"
     ]
    },
    {
     "name": "stderr",
     "output_type": "stream",
     "text": []
    },
    {
     "name": "stdout",
     "output_type": "stream",
     "text": [
      " > Processing time: 3.0932819843292236\n",
      " > Real-time factor: 0.721268922197083\n",
      " > Text splitted to sentences.\n",
      "['So, if you hear that, noble finder, then pick up the phone and call.', 'The number is 08007773344.', 'And again: 0800, then three times seven, twice three, twice four.']\n"
     ]
    },
    {
     "name": "stderr",
     "output_type": "stream",
     "text": []
    },
    {
     "name": "stdout",
     "output_type": "stream",
     "text": [
      " > Processing time: 13.162797212600708\n",
      " > Real-time factor: 0.8842202386484723\n",
      " > Text splitted to sentences.\n",
      "['7773344 … 7773344.', 'Bag lost.']\n"
     ]
    },
    {
     "name": "stderr",
     "output_type": "stream",
     "text": []
    },
    {
     "name": "stdout",
     "output_type": "stream",
     "text": [
      " > Processing time: 10.626514911651611\n",
      " > Real-time factor: 1.0575049669924643\n",
      " > Text splitted to sentences.\n",
      "[\"We'll advertise briefly and then we want to know who you're looking for!\", 'Call us!']\n"
     ]
    },
    {
     "name": "stderr",
     "output_type": "stream",
     "text": []
    },
    {
     "name": "stdout",
     "output_type": "stream",
     "text": [
      " > Processing time: 3.602663993835449\n",
      " > Real-time factor: 0.7454815823911124\n",
      " > Text splitted to sentences.\n",
      "['A1-11 addresses']\n"
     ]
    },
    {
     "name": "stderr",
     "output_type": "stream",
     "text": []
    },
    {
     "name": "stdout",
     "output_type": "stream",
     "text": [
      " > Processing time: 1.2647812366485596\n",
      " > Real-time factor: 0.7295411862998805\n",
      " > Text splitted to sentences.\n",
      "['So, here is my cell phone number.']\n"
     ]
    },
    {
     "name": "stderr",
     "output_type": "stream",
     "text": []
    },
    {
     "name": "stdout",
     "output_type": "stream",
     "text": [
      " > Processing time: 1.9780123233795166\n",
      " > Real-time factor: 0.7645969553071188\n",
      " > Text splitted to sentences.\n",
      "['MOTHER OF LOTTE:']\n"
     ]
    },
    {
     "name": "stderr",
     "output_type": "stream",
     "text": []
    },
    {
     "name": "stdout",
     "output_type": "stream",
     "text": [
      " > Processing time: 0.9789090156555176\n",
      " > Real-time factor: 0.7030708755007308\n",
      " > Text splitted to sentences.\n",
      "['Is that a two or a seven?']\n"
     ]
    },
    {
     "name": "stderr",
     "output_type": "stream",
     "text": []
    },
    {
     "name": "stdout",
     "output_type": "stream",
     "text": [
      " > Processing time: 1.6936919689178467\n",
      " > Real-time factor: 0.8604700942851042\n",
      " > Text splitted to sentences.\n",
      "['That’s a seven… 0173 90 76 34 29 58.']\n"
     ]
    },
    {
     "name": "stderr",
     "output_type": "stream",
     "text": []
    },
    {
     "name": "stdout",
     "output_type": "stream",
     "text": [
      " > Processing time: 4.384782075881958\n",
      " > Real-time factor: 0.8346136810891361\n",
      " > Text splitted to sentences.\n",
      "['MOTHER OF LOTTE:']\n"
     ]
    },
    {
     "name": "stderr",
     "output_type": "stream",
     "text": []
    },
    {
     "name": "stdout",
     "output_type": "stream",
     "text": [
      " > Processing time: 0.9312877655029297\n",
      " > Real-time factor: 0.6900131628818941\n",
      " > Text splitted to sentences.\n",
      "['0173 90 76 34 29 58.']\n"
     ]
    },
    {
     "name": "stderr",
     "output_type": "stream",
     "text": []
    },
    {
     "name": "stdout",
     "output_type": "stream",
     "text": [
      " > Processing time: 4.714876174926758\n",
      " > Real-time factor: 1.0290744652441086\n",
      " > Text splitted to sentences.\n",
      "['Hello, who is there?']\n"
     ]
    },
    {
     "name": "stderr",
     "output_type": "stream",
     "text": []
    },
    {
     "name": "stdout",
     "output_type": "stream",
     "text": [
      " > Processing time: 1.8173229694366455\n",
      " > Real-time factor: 0.8803437604246628\n",
      " > Text splitted to sentences.\n",
      "['MOTHER OF LOTTE:']\n"
     ]
    },
    {
     "name": "stderr",
     "output_type": "stream",
     "text": []
    },
    {
     "name": "stdout",
     "output_type": "stream",
     "text": [
      " > Processing time: 1.102043867111206\n",
      " > Real-time factor: 0.7679748202865547\n",
      " > Text splitted to sentences.\n",
      "['All right, thanks.']\n"
     ]
    },
    {
     "name": "stderr",
     "output_type": "stream",
     "text": []
    },
    {
     "name": "stdout",
     "output_type": "stream",
     "text": [
      " > Processing time: 1.2031450271606445\n",
      " > Real-time factor: 0.7594014478186268\n",
      " > Text splitted to sentences.\n",
      "['Yes, hello!', \"What's your name?\"]\n"
     ]
    },
    {
     "name": "stderr",
     "output_type": "stream",
     "text": []
    },
    {
     "name": "stdout",
     "output_type": "stream",
     "text": [
      " > Processing time: 2.0459868907928467\n",
      " > Real-time factor: 0.7461658974445101\n",
      " > Text splitted to sentences.\n",
      "['Nico, how are you?']\n"
     ]
    },
    {
     "name": "stderr",
     "output_type": "stream",
     "text": []
    },
    {
     "name": "stdout",
     "output_type": "stream",
     "text": [
      " > Processing time: 2.3511528968811035\n",
      " > Real-time factor: 1.04202373919978\n",
      " > Text splitted to sentences.\n",
      "[\"Thank you, thank you, I'm fine.\"]\n"
     ]
    },
    {
     "name": "stderr",
     "output_type": "stream",
     "text": []
    },
    {
     "name": "stdout",
     "output_type": "stream",
     "text": [
      " > Processing time: 1.608609914779663\n",
      " > Real-time factor: 0.7832867625935708\n",
      " > Text splitted to sentences.\n",
      "['Oh my God …']\n"
     ]
    },
    {
     "name": "stderr",
     "output_type": "stream",
     "text": []
    },
    {
     "name": "stdout",
     "output_type": "stream",
     "text": [
      " > Processing time: 0.9462928771972656\n",
      " > Real-time factor: 0.7421904919194241\n",
      " > Text splitted to sentences.\n",
      "['How are you doing?']\n"
     ]
    },
    {
     "name": "stderr",
     "output_type": "stream",
     "text": []
    },
    {
     "name": "stdout",
     "output_type": "stream",
     "text": [
      " > Processing time: 1.0708730220794678\n",
      " > Real-time factor: 0.7462529770588625\n",
      " > Text splitted to sentences.\n",
      "['Hmm.', 'Not so good.']\n"
     ]
    },
    {
     "name": "stderr",
     "output_type": "stream",
     "text": []
    },
    {
     "name": "stdout",
     "output_type": "stream",
     "text": [
      " > Processing time: 1.623896837234497\n",
      " > Real-time factor: 0.757179128334394\n",
      " > Text splitted to sentences.\n",
      "['Not so good?', 'Why not so good?']\n"
     ]
    },
    {
     "name": "stderr",
     "output_type": "stream",
     "text": []
    },
    {
     "name": "stdout",
     "output_type": "stream",
     "text": [
      " > Processing time: 2.042085886001587\n",
      " > Real-time factor: 0.7195510521499602\n",
      " > Text splitted to sentences.\n",
      "['My bag.', 'My bag... lost bag...']\n"
     ]
    },
    {
     "name": "stderr",
     "output_type": "stream",
     "text": []
    },
    {
     "name": "stdout",
     "output_type": "stream",
     "text": [
      " > Processing time: 2.3141720294952393\n",
      " > Real-time factor: 0.7088540012748333\n",
      " > Text splitted to sentences.\n",
      "['Oh, okay, wait... you lost your bag?', 'How did that happen?']\n"
     ]
    },
    {
     "name": "stderr",
     "output_type": "stream",
     "text": []
    },
    {
     "name": "stdout",
     "output_type": "stream",
     "text": [
      " > Processing time: 3.1637489795684814\n",
      " > Real-time factor: 0.7845302478678662\n",
      " > Text splitted to sentences.\n",
      "['Oh, hello... who are you?']\n"
     ]
    },
    {
     "name": "stderr",
     "output_type": "stream",
     "text": []
    },
    {
     "name": "stdout",
     "output_type": "stream",
     "text": [
      " > Processing time: 1.6083590984344482\n",
      " > Real-time factor: 0.839874202837832\n",
      " > Text splitted to sentences.\n",
      "['Sorry.', \"I'm not Nico.\", 'My name is Lisa.', \"Nico doesn't speak German very well.\", \"He's looking for his bag.\", 'His bag is black and... it has a patch with a bicycle on it.']\n"
     ]
    },
    {
     "name": "stderr",
     "output_type": "stream",
     "text": []
    },
    {
     "name": "stdout",
     "output_type": "stream",
     "text": [
      " > Processing time: 9.129636287689209\n",
      " > Real-time factor: 0.7640715522810809\n",
      " > Text splitted to sentences.\n",
      "[\"Nico's passport is in the bag.\", 'So if you find the bag, please hand it in to the East Police Station.', 'It is at Schreinerstrasse 144.']\n"
     ]
    },
    {
     "name": "stderr",
     "output_type": "stream",
     "text": []
    },
    {
     "name": "stdout",
     "output_type": "stream",
     "text": [
      " > Processing time: 7.71410608291626\n",
      " > Real-time factor: 0.8021322744011915\n",
      " > Text splitted to sentences.\n",
      "['Scheinerstrasse 144?']\n"
     ]
    },
    {
     "name": "stderr",
     "output_type": "stream",
     "text": []
    },
    {
     "name": "stdout",
     "output_type": "stream",
     "text": [
      " > Processing time: 2.0145552158355713\n",
      " > Real-time factor: 0.8374207631296541\n",
      " > Text splitted to sentences.\n",
      "['No, Schreinerstrasse, with an “R”, S-C-H-R-E-N-E-R.', 'And the house number is 144.']\n",
      "noʊ, ʃɹaɪnɚstɹəs, wɪθ ən “ɑɹ”, ɛs si eɪt͡ʃ ɑɹ i ɛn i ɑɹ.\n",
      " [!] Character '“' not found in the vocabulary. Discarding it.\n",
      "noʊ, ʃɹaɪnɚstɹəs, wɪθ ən “ɑɹ”, ɛs si eɪt͡ʃ ɑɹ i ɛn i ɑɹ.\n",
      " [!] Character '”' not found in the vocabulary. Discarding it.\n"
     ]
    },
    {
     "name": "stderr",
     "output_type": "stream",
     "text": []
    },
    {
     "name": "stdout",
     "output_type": "stream",
     "text": [
      " > Processing time: 6.766133069992065\n",
      " > Real-time factor: 0.9035163896544198\n",
      " > Text splitted to sentences.\n",
      "['Thank you!', 'Good luck!']\n"
     ]
    },
    {
     "name": "stderr",
     "output_type": "stream",
     "text": []
    },
    {
     "name": "stdout",
     "output_type": "stream",
     "text": [
      " > Processing time: 1.3264508247375488\n",
      " > Real-time factor: 0.6474703016942152\n",
      " > Text splitted to sentences.\n",
      "['What is that supposed to mean?']\n"
     ]
    },
    {
     "name": "stderr",
     "output_type": "stream",
     "text": []
    },
    {
     "name": "stdout",
     "output_type": "stream",
     "text": [
      " > Processing time: 1.5626029968261719\n",
      " > Real-time factor: 0.7981966610724529\n",
      " > Text splitted to sentences.\n",
      "['Excuse ...']\n"
     ]
    },
    {
     "name": "stderr",
     "output_type": "stream",
     "text": []
    },
    {
     "name": "stdout",
     "output_type": "stream",
     "text": [
      " > Processing time: 1.0739760398864746\n",
      " > Real-time factor: 0.7428932717683707\n",
      " > Text splitted to sentences.\n",
      "['A1-12-At the office']\n"
     ]
    },
    {
     "name": "stderr",
     "output_type": "stream",
     "text": []
    },
    {
     "name": "stdout",
     "output_type": "stream",
     "text": [
      " > Processing time: 1.3107850551605225\n",
      " > Real-time factor: 0.7379161503999939\n",
      " > Text splitted to sentences.\n",
      "['Hi Papa!']\n"
     ]
    },
    {
     "name": "stderr",
     "output_type": "stream",
     "text": []
    },
    {
     "name": "stdout",
     "output_type": "stream",
     "text": [
      " > Processing time: 0.844573974609375\n",
      " > Real-time factor: 0.6974186412959331\n",
      " > Text splitted to sentences.\n",
      "['Ah!', 'Hello, Lisa!', 'Good day, my name is Jürgen Brunner.', 'Are you Nico?']\n"
     ]
    },
    {
     "name": "stderr",
     "output_type": "stream",
     "text": []
    },
    {
     "name": "stdout",
     "output_type": "stream",
     "text": [
      " > Processing time: 4.3368449211120605\n",
      " > Real-time factor: 0.7350584612054339\n",
      " > Text splitted to sentences.\n",
      "['Yes.', 'My name is Nicolás González.']\n"
     ]
    },
    {
     "name": "stderr",
     "output_type": "stream",
     "text": []
    },
    {
     "name": "stdout",
     "output_type": "stream",
     "text": [
      " > Processing time: 2.4046010971069336\n",
      " > Real-time factor: 0.7640122104766787\n",
      " > Text splitted to sentences.\n",
      "[\"Mr. González, it's a pleasure to meet you.\", 'Please sit down.', 'How can I help you?']\n"
     ]
    },
    {
     "name": "stderr",
     "output_type": "stream",
     "text": []
    },
    {
     "name": "stdout",
     "output_type": "stream",
     "text": [
      " > Processing time: 4.771800756454468\n",
      " > Real-time factor: 0.782647327612673\n",
      " > Text splitted to sentences.\n",
      "['What is your date of birth?', 'I mean, when is your birthday?', 'Birthday?']\n"
     ]
    },
    {
     "name": "stderr",
     "output_type": "stream",
     "text": []
    },
    {
     "name": "stdout",
     "output_type": "stream",
     "text": [
      " > Processing time: 4.42379903793335\n",
      " > Real-time factor: 0.8219110121880255\n",
      " > Text splitted to sentences.\n",
      "['Birthday.']\n"
     ]
    },
    {
     "name": "stderr",
     "output_type": "stream",
     "text": []
    },
    {
     "name": "stdout",
     "output_type": "stream",
     "text": [
      " > Processing time: 1.0193660259246826\n",
      " > Real-time factor: 0.773614489697457\n",
      " > Text splitted to sentences.\n",
      "[\"We'll take my address.\", 'I live at Wagnergasse 136.']\n"
     ]
    },
    {
     "name": "stderr",
     "output_type": "stream",
     "text": []
    },
    {
     "name": "stdout",
     "output_type": "stream",
     "text": [
      " > Processing time: 4.463029146194458\n",
      " > Real-time factor: 0.8844687170421042\n",
      " > Text splitted to sentences.\n",
      "['Your passport number !', 'Passport number.']\n"
     ]
    },
    {
     "name": "stderr",
     "output_type": "stream",
     "text": []
    },
    {
     "name": "stdout",
     "output_type": "stream",
     "text": [
      " > Processing time: 2.7248449325561523\n",
      " > Real-time factor: 0.7981385274036767\n",
      " > Text splitted to sentences.\n",
      "['My passport is gone.']\n"
     ]
    },
    {
     "name": "stderr",
     "output_type": "stream",
     "text": []
    },
    {
     "name": "stdout",
     "output_type": "stream",
     "text": [
      " > Processing time: 1.4386000633239746\n",
      " > Real-time factor: 0.7078563539399579\n",
      " > Text splitted to sentences.\n",
      "[\"Oh, that's not good.\"]\n"
     ]
    },
    {
     "name": "stderr",
     "output_type": "stream",
     "text": []
    },
    {
     "name": "stdout",
     "output_type": "stream",
     "text": [
      " > Processing time: 2.0540452003479004\n",
      " > Real-time factor: 0.9508001235987812\n",
      " > Text splitted to sentences.\n",
      "['This is Yara.']\n"
     ]
    },
    {
     "name": "stderr",
     "output_type": "stream",
     "text": []
    },
    {
     "name": "stdout",
     "output_type": "stream",
     "text": [
      " > Processing time: 1.313770055770874\n",
      " > Real-time factor: 0.8581123813003749\n",
      " > Text splitted to sentences.\n",
      "['And who is Yara?']\n"
     ]
    },
    {
     "name": "stderr",
     "output_type": "stream",
     "text": []
    },
    {
     "name": "stdout",
     "output_type": "stream",
     "text": [
      " > Processing time: 1.4028799533843994\n",
      " > Real-time factor: 0.7945327279881439\n",
      " > Text splitted to sentences.\n",
      "['His aunt!']\n"
     ]
    },
    {
     "name": "stderr",
     "output_type": "stream",
     "text": []
    },
    {
     "name": "stdout",
     "output_type": "stream",
     "text": [
      " > Processing time: 0.7053630352020264\n",
      " > Real-time factor: 0.6513047416454537\n",
      " > Text splitted to sentences.\n",
      "['Yara is your aunt.']\n"
     ]
    },
    {
     "name": "stderr",
     "output_type": "stream",
     "text": []
    },
    {
     "name": "stdout",
     "output_type": "stream",
     "text": [
      " > Processing time: 1.8149309158325195\n",
      " > Real-time factor: 0.9748957470899837\n",
      " > Text splitted to sentences.\n",
      "['Yes, my aunt.']\n"
     ]
    },
    {
     "name": "stderr",
     "output_type": "stream",
     "text": []
    },
    {
     "name": "stdout",
     "output_type": "stream",
     "text": [
      " > Processing time: 1.3439931869506836\n",
      " > Real-time factor: 0.8657890403375673\n",
      " > Text splitted to sentences.\n",
      "['Where does Yara live?', 'Do you have an address?', 'Does Yara know you are here?']\n"
     ]
    },
    {
     "name": "stderr",
     "output_type": "stream",
     "text": []
    },
    {
     "name": "stdout",
     "output_type": "stream",
     "text": [
      " > Processing time: 4.713586091995239\n",
      " > Real-time factor: 0.8055117217878507\n",
      " > Text splitted to sentences.\n",
      "['Does Yara know you are here?', 'Is she waiting for you?']\n"
     ]
    },
    {
     "name": "stderr",
     "output_type": "stream",
     "text": []
    },
    {
     "name": "stdout",
     "output_type": "stream",
     "text": [
      " > Processing time: 2.930797815322876\n",
      " > Real-time factor: 0.7738420565013755\n",
      " > Text splitted to sentences.\n",
      "[\"His aunt doesn't know why he's here?\"]\n"
     ]
    },
    {
     "name": "stderr",
     "output_type": "stream",
     "text": []
    },
    {
     "name": "stdout",
     "output_type": "stream",
     "text": [
      " > Processing time: 1.7275991439819336\n",
      " > Real-time factor: 0.7693034632545348\n",
      " > Text splitted to sentences.\n",
      "['Why is he here in Germany?']\n"
     ]
    },
    {
     "name": "stderr",
     "output_type": "stream",
     "text": []
    },
    {
     "name": "stdout",
     "output_type": "stream",
     "text": [
      " > Processing time: 1.489731788635254\n",
      " > Real-time factor: 0.7368829952029287\n",
      " > Text splitted to sentences.\n",
      "[\"I don't know.\", \"But I'll find out.\"]\n"
     ]
    },
    {
     "name": "stderr",
     "output_type": "stream",
     "text": []
    },
    {
     "name": "stdout",
     "output_type": "stream",
     "text": [
      " > Processing time: 2.0224649906158447\n",
      " > Real-time factor: 0.6943688454849547\n",
      " > Text splitted to sentences.\n",
      "[\"I'm helping Nico.\"]\n"
     ]
    },
    {
     "name": "stderr",
     "output_type": "stream",
     "text": []
    },
    {
     "name": "stdout",
     "output_type": "stream",
     "text": [
      " > Processing time: 1.1021440029144287\n",
      " > Real-time factor: 0.7149042181066564\n",
      " > Text splitted to sentences.\n",
      "['Thanks, Dad.']\n"
     ]
    },
    {
     "name": "stderr",
     "output_type": "stream",
     "text": []
    },
    {
     "name": "stdout",
     "output_type": "stream",
     "text": [
      " > Processing time: 1.1365916728973389\n",
      " > Real-time factor: 0.7321827396804845\n",
      " > Text splitted to sentences.\n",
      "['With pleasure.', \"We'll talk on the phone!\", 'Have fun at the party tonight.']\n"
     ]
    },
    {
     "name": "stderr",
     "output_type": "stream",
     "text": []
    },
    {
     "name": "stdout",
     "output_type": "stream",
     "text": [
      " > Processing time: 3.435882806777954\n",
      " > Real-time factor: 0.7085755427465362\n",
      " > Text splitted to sentences.\n",
      "['A1-13-What are you doing here']\n"
     ]
    },
    {
     "name": "stderr",
     "output_type": "stream",
     "text": []
    },
    {
     "name": "stdout",
     "output_type": "stream",
     "text": [
      " > Processing time: 2.403736114501953\n",
      " > Real-time factor: 0.9904145506806564\n",
      " > Text splitted to sentences.\n",
      "['Hi, Lisa!', 'Who is that?']\n"
     ]
    },
    {
     "name": "stderr",
     "output_type": "stream",
     "text": []
    },
    {
     "name": "stdout",
     "output_type": "stream",
     "text": [
      " > Processing time: 1.8828439712524414\n",
      " > Real-time factor: 0.7144614107965246\n",
      " > Text splitted to sentences.\n",
      "['This is Nico.']\n"
     ]
    },
    {
     "name": "stderr",
     "output_type": "stream",
     "text": []
    },
    {
     "name": "stdout",
     "output_type": "stream",
     "text": [
      " > Processing time: 1.05619478225708\n",
      " > Real-time factor: 0.7528116765909337\n",
      " > Text splitted to sentences.\n",
      "[\"Hello, I'm Nico.\"]\n"
     ]
    },
    {
     "name": "stderr",
     "output_type": "stream",
     "text": []
    },
    {
     "name": "stdout",
     "output_type": "stream",
     "text": [
      " > Processing time: 1.5792748928070068\n",
      " > Real-time factor: 0.8246866280976537\n",
      " > Text splitted to sentences.\n",
      "['Hello, Nico.', \"I'm Sebastian.\", 'What are you doing here?']\n"
     ]
    },
    {
     "name": "stderr",
     "output_type": "stream",
     "text": []
    },
    {
     "name": "stdout",
     "output_type": "stream",
     "text": [
      " > Processing time: 3.4786527156829834\n",
      " > Real-time factor: 0.7644830523074463\n",
      " > Text splitted to sentences.\n",
      "['I have a problem: my bag is gone and my phone and my passport are gone too.', \"And Yara's address is gone too.\"]\n"
     ]
    },
    {
     "name": "stderr",
     "output_type": "stream",
     "text": []
    },
    {
     "name": "stdout",
     "output_type": "stream",
     "text": [
      " > Processing time: 5.991934299468994\n",
      " > Real-time factor: 0.8223901042367546\n",
      " > Text splitted to sentences.\n",
      "[\"Okay, that's not so good.\", 'And where are you from?']\n"
     ]
    },
    {
     "name": "stderr",
     "output_type": "stream",
     "text": []
    },
    {
     "name": "stdout",
     "output_type": "stream",
     "text": [
      " > Processing time: 3.3807499408721924\n",
      " > Real-time factor: 0.831741005627077\n",
      " > Text splitted to sentences.\n",
      "['I come from Spain.', 'I live in Seville.']\n"
     ]
    },
    {
     "name": "stderr",
     "output_type": "stream",
     "text": []
    },
    {
     "name": "stdout",
     "output_type": "stream",
     "text": [
      " > Processing time: 2.3624520301818848\n",
      " > Real-time factor: 0.776951994140063\n",
      " > Text splitted to sentences.\n",
      "['Nice.', 'And who is Yara?']\n"
     ]
    },
    {
     "name": "stderr",
     "output_type": "stream",
     "text": []
    },
    {
     "name": "stdout",
     "output_type": "stream",
     "text": [
      " > Processing time: 1.8465709686279297\n",
      " > Real-time factor: 0.6950706280908142\n",
      " > Text splitted to sentences.\n",
      "[\"Yara is Nico's aunt.\", 'He said she has a bike shop here.', \"But he doesn't have the address.\"]\n"
     ]
    },
    {
     "name": "stderr",
     "output_type": "stream",
     "text": []
    },
    {
     "name": "stdout",
     "output_type": "stream",
     "text": [
      " > Processing time: 4.501582145690918\n",
      " > Real-time factor: 0.7706868936296726\n",
      " > Text splitted to sentences.\n",
      "['Not so good either.', 'And how old are you?']\n"
     ]
    },
    {
     "name": "stderr",
     "output_type": "stream",
     "text": []
    },
    {
     "name": "stdout",
     "output_type": "stream",
     "text": [
      " > Processing time: 2.3290700912475586\n",
      " > Real-time factor: 0.7064924442611401\n",
      " > Text splitted to sentences.\n",
      "['I am 22 years old.', 'And you?', 'Are you from Germany?']\n"
     ]
    },
    {
     "name": "stderr",
     "output_type": "stream",
     "text": []
    },
    {
     "name": "stdout",
     "output_type": "stream",
     "text": [
      " > Processing time: 3.2790610790252686\n",
      " > Real-time factor: 0.7223131828383733\n",
      " > Text splitted to sentences.\n",
      "['I am 25 years old.', 'And yes, I come from Germany.']\n"
     ]
    },
    {
     "name": "stderr",
     "output_type": "stream",
     "text": []
    },
    {
     "name": "stdout",
     "output_type": "stream",
     "text": [
      " > Processing time: 3.4093730449676514\n",
      " > Real-time factor: 0.7890849510031596\n",
      " > Text splitted to sentences.\n",
      "['And my name is Nina.', 'I also come from Germany and I am 23 years old.']\n"
     ]
    },
    {
     "name": "stderr",
     "output_type": "stream",
     "text": []
    },
    {
     "name": "stdout",
     "output_type": "stream",
     "text": [
      " > Processing time: 4.58516788482666\n",
      " > Real-time factor: 0.8202447021156816\n",
      " > Text splitted to sentences.\n",
      "['Can Nico stay here for two days?']\n"
     ]
    },
    {
     "name": "stderr",
     "output_type": "stream",
     "text": []
    },
    {
     "name": "stdout",
     "output_type": "stream",
     "text": [
      " > Processing time: 1.8224549293518066\n",
      " > Real-time factor: 0.8154160757726204\n",
      " > Text splitted to sentences.\n",
      "['No problem!']\n"
     ]
    },
    {
     "name": "stderr",
     "output_type": "stream",
     "text": []
    },
    {
     "name": "stdout",
     "output_type": "stream",
     "text": [
      " > Processing time: 0.6771178245544434\n",
      " > Real-time factor: 0.6015260508330856\n",
      " > Text splitted to sentences.\n",
      "['Welcome to Wagnergasse!']\n"
     ]
    },
    {
     "name": "stderr",
     "output_type": "stream",
     "text": []
    },
    {
     "name": "stdout",
     "output_type": "stream",
     "text": [
      " > Processing time: 1.5269582271575928\n",
      " > Real-time factor: 0.8345554165554342\n",
      " > Text splitted to sentences.\n",
      "['Thank you very much !']\n"
     ]
    },
    {
     "name": "stderr",
     "output_type": "stream",
     "text": []
    },
    {
     "name": "stdout",
     "output_type": "stream",
     "text": [
      " > Processing time: 1.0005099773406982\n",
      " > Real-time factor: 0.735488834114701\n",
      " > Text splitted to sentences.\n",
      "['Welcome!']\n"
     ]
    },
    {
     "name": "stderr",
     "output_type": "stream",
     "text": []
    },
    {
     "name": "stdout",
     "output_type": "stream",
     "text": [
      " > Processing time: 0.5962390899658203\n",
      " > Real-time factor: 0.6691796744846468\n",
      " > Text splitted to sentences.\n",
      "[\"And there's a party?\"]\n"
     ]
    },
    {
     "name": "stderr",
     "output_type": "stream",
     "text": []
    },
    {
     "name": "stdout",
     "output_type": "stream",
     "text": [
      " > Processing time: 1.4535198211669922\n",
      " > Real-time factor: 0.7944178290218575\n",
      " > Text splitted to sentences.\n",
      "['Yes, but we have a small problem.']\n"
     ]
    },
    {
     "name": "stderr",
     "output_type": "stream",
     "text": []
    },
    {
     "name": "stdout",
     "output_type": "stream",
     "text": [
      " > Processing time: 2.087207794189453\n",
      " > Real-time factor: 0.7969483750246098\n",
      " > Text splitted to sentences.\n",
      "['The lamp is broken.']\n"
     ]
    },
    {
     "name": "stderr",
     "output_type": "stream",
     "text": []
    },
    {
     "name": "stdout",
     "output_type": "stream",
     "text": [
      " > Processing time: 1.1221251487731934\n",
      " > Real-time factor: 0.7329360867231831\n",
      " > Text splitted to sentences.\n",
      "['Sure.', 'Did everything go well at the airport?', 'Is Emma OK?']\n"
     ]
    },
    {
     "name": "stderr",
     "output_type": "stream",
     "text": []
    },
    {
     "name": "stdout",
     "output_type": "stream",
     "text": [
      " > Processing time: 3.4282240867614746\n",
      " > Real-time factor: 0.7212758440482799\n",
      " > Text splitted to sentences.\n",
      "['Yes.', \"Emma's mother is on the plane and Emma is fine, she is with Lotte.\"]\n"
     ]
    },
    {
     "name": "stderr",
     "output_type": "stream",
     "text": []
    },
    {
     "name": "stdout",
     "output_type": "stream",
     "text": [
      " > Processing time: 3.745476007461548\n",
      " > Real-time factor: 0.7470035914362879\n",
      " > Text splitted to sentences.\n",
      "['Hey...', 'Wow, the lamp works again.']\n"
     ]
    },
    {
     "name": "stderr",
     "output_type": "stream",
     "text": []
    },
    {
     "name": "stdout",
     "output_type": "stream",
     "text": [
      " > Processing time: 2.9116110801696777\n",
      " > Real-time factor: 0.809830636056836\n",
      " > Text splitted to sentences.\n",
      "['Great, Nico!', 'Thanks!', 'Would you like something to drink?']\n"
     ]
    },
    {
     "name": "stderr",
     "output_type": "stream",
     "text": []
    },
    {
     "name": "stdout",
     "output_type": "stream",
     "text": [
      " > Processing time: 3.4547677040100098\n",
      " > Real-time factor: 0.7700648719838048\n",
      " > Text splitted to sentences.\n",
      "['Yes, drink, a drink!']\n"
     ]
    },
    {
     "name": "stderr",
     "output_type": "stream",
     "text": []
    },
    {
     "name": "stdout",
     "output_type": "stream",
     "text": [
      " > Processing time: 1.4627470970153809\n",
      " > Real-time factor: 0.7512825357038422\n",
      " > Text splitted to sentences.\n",
      "['A1-14-What are you drinking']\n"
     ]
    },
    {
     "name": "stderr",
     "output_type": "stream",
     "text": []
    },
    {
     "name": "stdout",
     "output_type": "stream",
     "text": [
      " > Processing time: 1.984992265701294\n",
      " > Real-time factor: 0.821489418830719\n",
      " > Text splitted to sentences.\n",
      "['This is Yara.']\n"
     ]
    },
    {
     "name": "stderr",
     "output_type": "stream",
     "text": []
    },
    {
     "name": "stdout",
     "output_type": "stream",
     "text": [
      " > Processing time: 1.1386518478393555\n",
      " > Real-time factor: 0.7335098869482642\n",
      " > Text splitted to sentences.\n",
      "['Yes, she is pretty.']\n"
     ]
    },
    {
     "name": "stderr",
     "output_type": "stream",
     "text": []
    },
    {
     "name": "stdout",
     "output_type": "stream",
     "text": [
      " > Processing time: 1.644550085067749\n",
      " > Real-time factor: 0.7765859051162045\n",
      " > Text splitted to sentences.\n",
      "['She lives in Germany.']\n"
     ]
    },
    {
     "name": "stderr",
     "output_type": "stream",
     "text": []
    },
    {
     "name": "stdout",
     "output_type": "stream",
     "text": [
      " > Processing time: 1.3004591464996338\n",
      " > Real-time factor: 0.8208242035554179\n",
      " > Text splitted to sentences.\n",
      "['Does she live here in the city?']\n"
     ]
    },
    {
     "name": "stderr",
     "output_type": "stream",
     "text": []
    },
    {
     "name": "stdout",
     "output_type": "stream",
     "text": [
      " > Processing time: 1.8139598369598389\n",
      " > Real-time factor: 0.8522912311479274\n",
      " > Text splitted to sentences.\n",
      "['But where is that?', \"Do you know Yara's bike shop?\"]\n"
     ]
    },
    {
     "name": "stderr",
     "output_type": "stream",
     "text": []
    },
    {
     "name": "stdout",
     "output_type": "stream",
     "text": [
      " > Processing time: 3.479325294494629\n",
      " > Real-time factor: 0.9034079871459137\n",
      " > Text splitted to sentences.\n",
      "['So.', 'What would you like to drink?']\n"
     ]
    },
    {
     "name": "stderr",
     "output_type": "stream",
     "text": []
    },
    {
     "name": "stdout",
     "output_type": "stream",
     "text": [
      " > Processing time: 1.5450761318206787\n",
      " > Real-time factor: 0.6830575295405299\n",
      " > Text splitted to sentences.\n",
      "['What is there?']\n"
     ]
    },
    {
     "name": "stderr",
     "output_type": "stream",
     "text": []
    },
    {
     "name": "stdout",
     "output_type": "stream",
     "text": [
      " > Processing time: 1.095571756362915\n",
      " > Real-time factor: 0.7206128632073547\n",
      " > Text splitted to sentences.\n",
      "['We have ... apple juice, water, beer, wine, cola and lemonade.']\n"
     ]
    },
    {
     "name": "stderr",
     "output_type": "stream",
     "text": []
    },
    {
     "name": "stdout",
     "output_type": "stream",
     "text": [
      " > Processing time: 3.224829912185669\n",
      " > Real-time factor: 0.8551657152441445\n",
      " > Text splitted to sentences.\n",
      "[\"So, I'll have a beer.\"]\n"
     ]
    },
    {
     "name": "stderr",
     "output_type": "stream",
     "text": []
    },
    {
     "name": "stdout",
     "output_type": "stream",
     "text": [
      " > Processing time: 1.6082887649536133\n",
      " > Real-time factor: 0.8215335084047063\n",
      " > Text splitted to sentences.\n",
      "['We also offer coffee and tea…']\n"
     ]
    },
    {
     "name": "stderr",
     "output_type": "stream",
     "text": []
    },
    {
     "name": "stdout",
     "output_type": "stream",
     "text": [
      " > Processing time: 1.8952140808105469\n",
      " > Real-time factor: 0.7774705650802188\n",
      " > Text splitted to sentences.\n",
      "['Beer, thanks.']\n"
     ]
    },
    {
     "name": "stderr",
     "output_type": "stream",
     "text": []
    },
    {
     "name": "stdout",
     "output_type": "stream",
     "text": [
      " > Processing time: 1.1526930332183838\n",
      " > Real-time factor: 0.7425550997756392\n",
      " > Text splitted to sentences.\n",
      "['Understood.']\n"
     ]
    },
    {
     "name": "stderr",
     "output_type": "stream",
     "text": []
    },
    {
     "name": "stdout",
     "output_type": "stream",
     "text": [
      " > Processing time: 0.723578929901123\n",
      " > Real-time factor: 0.642800352295934\n",
      " > Text splitted to sentences.\n",
      "['A coffee for me, please.']\n"
     ]
    },
    {
     "name": "stderr",
     "output_type": "stream",
     "text": []
    },
    {
     "name": "stdout",
     "output_type": "stream",
     "text": [
      " > Processing time: 1.4599230289459229\n",
      " > Real-time factor: 0.8073307072512016\n",
      " > Text splitted to sentences.\n",
      "['With milk and sugar?']\n"
     ]
    },
    {
     "name": "stderr",
     "output_type": "stream",
     "text": []
    },
    {
     "name": "stdout",
     "output_type": "stream",
     "text": [
      " > Processing time: 1.5665390491485596\n",
      " > Real-time factor: 0.9503775829010472\n",
      " > Text splitted to sentences.\n",
      "['Yes, with lots of milk but little sugar.', \"Oh wait, I'll do that.\"]\n"
     ]
    },
    {
     "name": "stderr",
     "output_type": "stream",
     "text": []
    },
    {
     "name": "stdout",
     "output_type": "stream",
     "text": [
      " > Processing time: 4.036853075027466\n",
      " > Real-time factor: 0.7966424960585711\n",
      " > Text splitted to sentences.\n",
      "['What about you, Nico?', 'Are you thirsty too?', 'What would you like to drink?']\n"
     ]
    },
    {
     "name": "stderr",
     "output_type": "stream",
     "text": []
    },
    {
     "name": "stdout",
     "output_type": "stream",
     "text": [
      " > Processing time: 3.8928239345550537\n",
      " > Real-time factor: 0.7755144301524113\n",
      " > Text splitted to sentences.\n",
      "['Coke please.']\n"
     ]
    },
    {
     "name": "stderr",
     "output_type": "stream",
     "text": []
    },
    {
     "name": "stdout",
     "output_type": "stream",
     "text": [
      " > Processing time: 1.0020251274108887\n",
      " > Real-time factor: 0.7859020607144226\n",
      " > Text splitted to sentences.\n",
      "['All right.', \"I'll have lemonade then.\"]\n"
     ]
    },
    {
     "name": "stderr",
     "output_type": "stream",
     "text": []
    },
    {
     "name": "stdout",
     "output_type": "stream",
     "text": [
      " > Processing time: 2.1208958625793457\n",
      " > Real-time factor: 0.7308393737351294\n",
      " > Text splitted to sentences.\n",
      "['So, friends, I have an idea!', 'We... we post the photo of Yara on Book and ask: Who knows this bike shop?', \"And that's how we find out the address.\"]\n"
     ]
    },
    {
     "name": "stderr",
     "output_type": "stream",
     "text": []
    },
    {
     "name": "stdout",
     "output_type": "stream",
     "text": [
      " > Processing time: 8.49570894241333\n",
      " > Real-time factor: 0.829146258083867\n",
      " > Text splitted to sentences.\n",
      "['Yes, perhaps.']\n"
     ]
    },
    {
     "name": "stderr",
     "output_type": "stream",
     "text": []
    },
    {
     "name": "stdout",
     "output_type": "stream",
     "text": [
      " > Processing time: 1.2926430702209473\n",
      " > Real-time factor: 0.7644252337202526\n",
      " > Text splitted to sentences.\n",
      "['Are you hungry?']\n"
     ]
    },
    {
     "name": "stderr",
     "output_type": "stream",
     "text": []
    },
    {
     "name": "stdout",
     "output_type": "stream",
     "text": [
      " > Processing time: 0.9054369926452637\n",
      " > Real-time factor: 0.6816338715020805\n",
      " > Text splitted to sentences.\n",
      "['Hungry?', 'Hungry?']\n"
     ]
    },
    {
     "name": "stderr",
     "output_type": "stream",
     "text": []
    },
    {
     "name": "stdout",
     "output_type": "stream",
     "text": [
      " > Processing time: 1.4292640686035156\n",
      " > Real-time factor: 0.6566297405529168\n",
      " > Text splitted to sentences.\n",
      "['Here are the menus!']\n"
     ]
    },
    {
     "name": "stderr",
     "output_type": "stream",
     "text": []
    },
    {
     "name": "stdout",
     "output_type": "stream",
     "text": [
      " > Processing time: 1.5620038509368896\n",
      " > Real-time factor: 0.8637809313936717\n",
      " > Text splitted to sentences.\n",
      "['So, cheers then!']\n"
     ]
    },
    {
     "name": "stderr",
     "output_type": "stream",
     "text": []
    },
    {
     "name": "stdout",
     "output_type": "stream",
     "text": [
      " > Processing time: 1.4631590843200684\n",
      " > Real-time factor: 0.8091202309604064\n",
      " > Text splitted to sentences.\n",
      "['Where is Nawin?', \"Isn't he here?\"]\n"
     ]
    },
    {
     "name": "stderr",
     "output_type": "stream",
     "text": [
      "100%|██████████| 185/185 [07:40<00:00,  2.49s/it]"
     ]
    },
    {
     "name": "stdout",
     "output_type": "stream",
     "text": [
      " > Processing time: 2.086207866668701\n",
      " > Real-time factor: 0.7434810643865649\n"
     ]
    },
    {
     "name": "stderr",
     "output_type": "stream",
     "text": [
      "\n"
     ]
    }
   ],
   "source": [
    "tts_en = TextToSpeech('en',dir_path)\n",
    "tts_en.text_to_speech(text_en)"
   ]
  },
  {
   "cell_type": "code",
   "execution_count": 43,
   "metadata": {},
   "outputs": [
    {
     "name": "stdout",
     "output_type": "stream",
     "text": [
      "Combined and resampled audio saved to: /Users/aziza/projects/deutsch/audio/data/result/combined_audio_resampled.wav\n"
     ]
    }
   ],
   "source": [
    "import os\n",
    "import torchaudio\n",
    "import torch\n",
    "\n",
    "# Folder where the audio files are stored\n",
    "folder = '/Users/aziza/projects/deutsch/audio/data/result/'  # Replace with your actual folder path\n",
    "\n",
    "# List all files in the folder\n",
    "files = os.listdir(folder)\n",
    "\n",
    "# Sort the files to ensure the order is maintained\n",
    "files.sort()\n",
    "\n",
    "# Separate German and English files based on the filename prefix\n",
    "german_files = [f for f in files if f.startswith('de')]\n",
    "english_files = [f for f in files if f.startswith('en')]\n",
    "\n",
    "# Desired sample rate (set to 48000 Hz for consistency)\n",
    "desired_sample_rate = 48000\n",
    "\n",
    "# Initialize an empty tensor for the combined audio\n",
    "combined_audio = None\n",
    "\n",
    "# Function to load and resample an audio file\n",
    "def load_and_resample_audio(file_path, target_sample_rate):\n",
    "    waveform, original_sample_rate = torchaudio.load(file_path)\n",
    "    if original_sample_rate != target_sample_rate:\n",
    "        # Resample the waveform\n",
    "        resampler = torchaudio.transforms.Resample(orig_freq=original_sample_rate, new_freq=target_sample_rate)\n",
    "        waveform = resampler(waveform)\n",
    "    return waveform, target_sample_rate\n",
    "\n",
    "# Merge files: English version first, followed by two repetitions of the German version\n",
    "for en_file, de_file in zip(english_files, german_files):\n",
    "    # Load and resample English and German audio files\n",
    "    en_audio, _ = load_and_resample_audio(os.path.join(folder, en_file), desired_sample_rate)\n",
    "    de_audio, _ = load_and_resample_audio(os.path.join(folder, de_file), desired_sample_rate)\n",
    "    \n",
    "    # Concatenate English audio + two repetitions of the German audio\n",
    "    merged_audio = torch.cat([en_audio, de_audio], dim=1)\n",
    "    \n",
    "    # Append to the combined audio tensor\n",
    "    if combined_audio is None:\n",
    "        combined_audio = merged_audio\n",
    "    else:\n",
    "        combined_audio = torch.cat([combined_audio, merged_audio], dim=1)\n",
    "\n",
    "# Save the combined audio to a new file\n",
    "output_file = os.path.join(folder, 'combined_audio_resampled.wav')\n",
    "torchaudio.save(output_file, combined_audio, desired_sample_rate)\n",
    "\n",
    "print(f\"Combined and resampled audio saved to: {output_file}\")\n"
   ]
  },
  {
   "cell_type": "code",
   "execution_count": null,
   "metadata": {},
   "outputs": [],
   "source": []
  }
 ],
 "metadata": {
  "kernelspec": {
   "display_name": "Python 3",
   "language": "python",
   "name": "python3"
  },
  "language_info": {
   "codemirror_mode": {
    "name": "ipython",
    "version": 3
   },
   "file_extension": ".py",
   "mimetype": "text/x-python",
   "name": "python",
   "nbconvert_exporter": "python",
   "pygments_lexer": "ipython3",
   "version": "3.11.9"
  }
 },
 "nbformat": 4,
 "nbformat_minor": 2
}
